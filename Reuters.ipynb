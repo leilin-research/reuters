{
 "cells": [
  {
   "cell_type": "code",
   "execution_count": 41,
   "metadata": {},
   "outputs": [],
   "source": [
    "from nltk.corpus import reuters\n",
    "import nltk\n",
    "#nltk.download('reuters')\n",
    "import pandas as pd\n",
    "from nltk.stem import WordNetLemmatizer\n",
    "from nltk.stem.porter import PorterStemmer\n",
    "import numpy as np\n",
    "from sklearn.model_selection import train_test_split\n",
    "import matplotlib.pyplot as plt\n",
    "import warnings\n",
    "warnings.filterwarnings(\"ignore\")"
   ]
  },
  {
   "cell_type": "markdown",
   "metadata": {},
   "source": [
    "## Getting train and test dataset from nltk reuters corpus"
   ]
  },
  {
   "cell_type": "code",
   "execution_count": 42,
   "metadata": {},
   "outputs": [],
   "source": [
    "train_documents, train_categories = zip(*[(reuters.raw(i), reuters.categories(i)) for i in reuters.fileids() if i.startswith('training/')])\n",
    "test_documents, test_categories = zip(*[(reuters.raw(i), reuters.categories(i)) for i in reuters.fileids() if i.startswith('test/')])"
   ]
  },
  {
   "cell_type": "code",
   "execution_count": 43,
   "metadata": {},
   "outputs": [
    {
     "name": "stdout",
     "output_type": "stream",
     "text": [
      "Number of training documents: 7769\n",
      "Number of testing documents: 3019\n"
     ]
    }
   ],
   "source": [
    "print(\"Number of training documents:\", len(train_documents))\n",
    "print(\"Number of testing documents:\", len(test_documents))"
   ]
  },
  {
   "cell_type": "markdown",
   "metadata": {},
   "source": [
    "## Convert the categorical labels to Multi Label Encodings"
   ]
  },
  {
   "cell_type": "code",
   "execution_count": 44,
   "metadata": {},
   "outputs": [],
   "source": [
    "from sklearn.preprocessing import MultiLabelBinarizer\n",
    "\n",
    "mlb = MultiLabelBinarizer()\n",
    "train_labels = mlb.fit_transform(train_categories)\n",
    "test_labels = mlb.transform(test_categories)"
   ]
  },
  {
   "cell_type": "markdown",
   "metadata": {},
   "source": [
    "## Creating Dataframe for applying transformations"
   ]
  },
  {
   "cell_type": "code",
   "execution_count": 46,
   "metadata": {},
   "outputs": [],
   "source": [
    "trainData = {\"content\": train_documents}\n",
    "testData = {\"content\": test_documents}\n",
    "trainDf = pd.DataFrame(trainData, columns=[\"content\"])\n",
    "testDf = pd.DataFrame(testData, columns=[\"content\"])"
   ]
  },
  {
   "cell_type": "markdown",
   "metadata": {},
   "source": [
    "## Pre-process the input data"
   ]
  },
  {
   "cell_type": "code",
   "execution_count": 291,
   "metadata": {},
   "outputs": [],
   "source": [
    "wordnet_lemmatizer = WordNetLemmatizer()\n",
    "stemmer = PorterStemmer()\n",
    "stopwords = set(w.rstrip() for w in open(\"../../nltk_data/corpora/reuters/stopwords\"))\n",
    "\n",
    "def tokenize_lemma_stopwords(text):\n",
    "    text = text.replace(\"\\n\", \" \")\n",
    "    tokens = nltk.tokenize.word_tokenize(text.lower()) # split string into words (tokens)\n",
    "    tokens = [t for t in tokens if t.isalpha()] # keep strings with only alphabets\n",
    "    tokens = [wordnet_lemmatizer.lemmatize(t) for t in tokens] # put words into base form\n",
    "    tokens = [stemmer.stem(t) for t in tokens]\n",
    "    tokens = [t for t in tokens if len(t) > 2] # remove short words, they're probably not useful\n",
    "    tokens = [t for t in tokens if t not in stopwords] # remove stopwords\n",
    "    cleanedText = \" \".join(tokens)\n",
    "    return cleanedText\n",
    "\n",
    "def dataCleaning(df):\n",
    "    data = df.copy()\n",
    "    data[\"content\"] = data[\"content\"].apply(tokenize_lemma_stopwords)\n",
    "    return data"
   ]
  },
  {
   "cell_type": "code",
   "execution_count": 292,
   "metadata": {},
   "outputs": [],
   "source": [
    "cleanedTrainData = dataCleaning(trainDf)\n",
    "cleanedTestData = dataCleaning(testDf)"
   ]
  },
  {
   "cell_type": "markdown",
   "metadata": {},
   "source": [
    "# Create TF-IDF Vectorizer (Bag of Words)"
   ]
  },
  {
   "cell_type": "code",
   "execution_count": 293,
   "metadata": {},
   "outputs": [],
   "source": [
    "from sklearn.feature_extraction.text import TfidfVectorizer\n",
    "from sklearn import metrics\n",
    "\n",
    "vectorizer = TfidfVectorizer()\n",
    "vectorised_train_documents = vectorizer.fit_transform(cleanedTrainData[\"content\"])\n",
    "vectorised_test_documents = vectorizer.transform(cleanedTestData[\"content\"])"
   ]
  },
  {
   "cell_type": "markdown",
   "metadata": {},
   "source": [
    "## Train and Evaluate Classifiers"
   ]
  },
  {
   "cell_type": "code",
   "execution_count": 294,
   "metadata": {},
   "outputs": [],
   "source": [
    "from sklearn.metrics import accuracy_score, precision_score, recall_score, f1_score, confusion_matrix, hamming_loss\n",
    "\n",
    "ModelsPerformance = {}\n",
    "\n",
    "def metricsReport(modelName, test_labels, predictions):\n",
    "    accuracy = accuracy_score(test_labels, predictions)\n",
    "\n",
    "    macro_precision = precision_score(test_labels, predictions, average='macro')\n",
    "    macro_recall = recall_score(test_labels, predictions, average='macro')\n",
    "    macro_f1 = f1_score(test_labels, predictions, average='macro')\n",
    "\n",
    "    micro_precision = precision_score(test_labels, predictions, average='micro')\n",
    "    micro_recall = recall_score(test_labels, predictions, average='micro')\n",
    "    micro_f1 = f1_score(test_labels, predictions, average='micro')\n",
    "    hamLoss = hamming_loss(test_labels, predictions)\n",
    "    print(\"------\" + modelName + \" Model Metrics-----\")\n",
    "    print(\"Accuracy: {:.4f}\\nHamming Loss: {:.4f}\\nPrecision:\\n  - Macro: {:.4f}\\n  - Micro: {:.4f}\\nRecall:\\n  - Macro: {:.4f}\\n  - Micro: {:.4f}\\nF1-measure:\\n  - Macro: {:.4f}\\n  - Micro: {:.4f}\"\\\n",
    "          .format(accuracy, hamLoss, macro_precision, micro_precision, macro_recall, micro_recall, macro_f1, micro_f1))\n",
    "    ModelsPerformance[modelName] = micro_f1"
   ]
  },
  {
   "cell_type": "code",
   "execution_count": 295,
   "metadata": {},
   "outputs": [
    {
     "name": "stdout",
     "output_type": "stream",
     "text": [
      "------SVC Sq. Hinge Loss Model Metrics-----\n",
      "Accuracy: 0.8115\n",
      "Hamming Loss: 0.0034\n",
      "Precision:\n",
      "  - Macro: 0.6485\n",
      "  - Micro: 0.9445\n",
      "Recall:\n",
      "  - Macro: 0.3961\n",
      "  - Micro: 0.8007\n",
      "F1-measure:\n",
      "  - Macro: 0.4680\n",
      "  - Micro: 0.8667\n"
     ]
    }
   ],
   "source": [
    "from sklearn.svm import LinearSVC\n",
    "from sklearn.multiclass import OneVsRestClassifier\n",
    "\n",
    "svmClassifier = OneVsRestClassifier(LinearSVC(), n_jobs=-1)\n",
    "svmClassifier.fit(vectorised_train_documents, train_labels)\n",
    "\n",
    "svmPreds = svmClassifier.predict(vectorised_test_documents)\n",
    "metricsReport(\"SVC Sq. Hinge Loss\", test_labels, svmPreds)"
   ]
  },
  {
   "cell_type": "code",
   "execution_count": 296,
   "metadata": {},
   "outputs": [
    {
     "name": "stdout",
     "output_type": "stream",
     "text": [
      "\n",
      "Classification Report\n",
      "\n",
      "              precision    recall  f1-score   support\n",
      "\n",
      "           0       0.98      0.96      0.97       719\n",
      "           1       1.00      0.48      0.65        23\n",
      "           2       1.00      0.64      0.78        14\n",
      "           3       0.87      0.67      0.75        30\n",
      "           4       0.88      0.39      0.54        18\n",
      "           5       0.00      0.00      0.00         1\n",
      "           6       1.00      0.94      0.97        18\n",
      "           7       1.00      0.50      0.67         2\n",
      "           8       0.00      0.00      0.00         3\n",
      "           9       0.96      0.96      0.96        28\n",
      "          10       1.00      0.78      0.88        18\n",
      "          11       0.00      0.00      0.00         1\n",
      "          12       0.96      0.79      0.86        56\n",
      "          13       1.00      0.55      0.71        20\n",
      "          14       0.00      0.00      0.00         2\n",
      "          15       0.93      0.46      0.62        28\n",
      "          16       0.00      0.00      0.00         1\n",
      "          17       0.89      0.85      0.87       189\n",
      "          18       0.00      0.00      0.00         1\n",
      "          19       0.84      0.70      0.77        44\n",
      "          20       0.00      0.00      0.00         4\n",
      "          21       0.99      0.98      0.98      1087\n",
      "          22       1.00      0.20      0.33        10\n",
      "          23       1.00      0.47      0.64        17\n",
      "          24       0.97      0.80      0.88        35\n",
      "          25       0.93      0.83      0.88        30\n",
      "          26       0.98      0.84      0.90       149\n",
      "          27       0.00      0.00      0.00         4\n",
      "          28       0.00      0.00      0.00         1\n",
      "          29       1.00      0.60      0.75         5\n",
      "          30       1.00      0.50      0.67         6\n",
      "          31       1.00      0.50      0.67         4\n",
      "          32       1.00      0.43      0.60         7\n",
      "          33       0.00      0.00      0.00         1\n",
      "          34       0.90      0.70      0.79       131\n",
      "          35       1.00      0.92      0.96        12\n",
      "          36       0.71      0.71      0.71        14\n",
      "          37       0.00      0.00      0.00         1\n",
      "          38       1.00      0.57      0.73        21\n",
      "          39       0.00      0.00      0.00         2\n",
      "          40       0.00      0.00      0.00        14\n",
      "          41       1.00      1.00      1.00         3\n",
      "          42       0.00      0.00      0.00         1\n",
      "          43       0.71      0.42      0.53        24\n",
      "          44       1.00      0.17      0.29         6\n",
      "          45       1.00      0.42      0.59        19\n",
      "          46       0.81      0.75      0.78       179\n",
      "          47       0.89      0.74      0.81        34\n",
      "          48       0.00      0.00      0.00         4\n",
      "          49       0.67      0.33      0.44        30\n",
      "          50       1.00      1.00      1.00         1\n",
      "          51       0.00      0.00      0.00         2\n",
      "          52       0.00      0.00      0.00         2\n",
      "          53       1.00      0.17      0.29         6\n",
      "          54       0.73      0.57      0.64        47\n",
      "          55       1.00      0.82      0.90        11\n",
      "          56       0.00      0.00      0.00         1\n",
      "          57       1.00      0.60      0.75        10\n",
      "          58       0.00      0.00      0.00         1\n",
      "          59       1.00      0.08      0.15        12\n",
      "          60       1.00      0.14      0.25         7\n",
      "          61       1.00      0.33      0.50         3\n",
      "          62       0.00      0.00      0.00         3\n",
      "          63       0.00      0.00      0.00         1\n",
      "          64       0.00      0.00      0.00         3\n",
      "          65       1.00      0.44      0.62         9\n",
      "          66       0.80      0.67      0.73        18\n",
      "          67       1.00      0.50      0.67         2\n",
      "          68       0.89      0.33      0.48        24\n",
      "          69       1.00      0.75      0.86        12\n",
      "          70       0.00      0.00      0.00         1\n",
      "          71       0.92      0.67      0.78        89\n",
      "          72       1.00      0.12      0.22         8\n",
      "          73       0.80      0.40      0.53        10\n",
      "          74       1.00      0.23      0.38        13\n",
      "          75       0.00      0.00      0.00        11\n",
      "          76       0.73      0.48      0.58        33\n",
      "          77       0.00      0.00      0.00        11\n",
      "          78       0.96      0.75      0.84        36\n",
      "          79       0.00      0.00      0.00         1\n",
      "          80       0.00      0.00      0.00         2\n",
      "          81       1.00      0.20      0.33         5\n",
      "          82       1.00      0.25      0.40         4\n",
      "          83       1.00      0.75      0.86        12\n",
      "          84       0.82      0.72      0.77       117\n",
      "          85       0.94      0.41      0.57        37\n",
      "          86       0.91      0.73      0.81        71\n",
      "          87       1.00      0.50      0.67        10\n",
      "          88       0.00      0.00      0.00        14\n",
      "          89       1.00      0.46      0.63        13\n",
      "\n",
      "   micro avg       0.94      0.80      0.87      3744\n",
      "   macro avg       0.65      0.40      0.47      3744\n",
      "weighted avg       0.92      0.80      0.84      3744\n",
      " samples avg       0.88      0.87      0.87      3744\n",
      "\n"
     ]
    }
   ],
   "source": [
    "from sklearn.metrics import classification_report\n",
    "print('\\nClassification Report\\n')\n",
    "print(classification_report(test_labels, svmPreds))"
   ]
  },
  {
   "cell_type": "markdown",
   "metadata": {},
   "source": [
    "# Word2Vec"
   ]
  },
  {
   "cell_type": "code",
   "execution_count": 297,
   "metadata": {},
   "outputs": [],
   "source": [
    "## for word embedding\n",
    "import gensim\n",
    "import gensim.downloader as gensim_api\n",
    "nlp = gensim_api.load(\"word2vec-google-news-300\")"
   ]
  },
  {
   "cell_type": "code",
   "execution_count": 298,
   "metadata": {},
   "outputs": [],
   "source": [
    "# from https://github.com/giannisnik/mpad/blob/master/mpad/utils.py\n",
    "def load_embeddings(model, vocab):\n",
    "    word_vecs = np.zeros((len(vocab)+1, 300))\n",
    "    unknown_words = set()\n",
    "    #model = KeyedVectors.load_word2vec_format(fname, binary=True)\n",
    "    for word in vocab:\n",
    "        if word in model:\n",
    "            word_vecs[vocab[word],:] = model[word]\n",
    "        else:\n",
    "            unknown_words.add(word)\n",
    "            word_vecs[vocab[word],:] = np.random.uniform(-0.25, 0.25, 300)\n",
    "    print(\"Existing vectors:\", len(vocab)-len(unknown_words))\n",
    "    return word_vecs\n",
    "\n",
    "def get_vocab(docs):\n",
    "    vocab = dict()\n",
    "    \n",
    "    for index, row in docs.iterrows():\n",
    "        doc = row['content'].split()\n",
    "        \n",
    "        for word in doc:\n",
    "            if word not in vocab:\n",
    "                vocab[word] = len(vocab)+1\n",
    "\n",
    "    print(\"Vocabulary size: \", len(vocab))\n",
    "        \n",
    "    return vocab"
   ]
  },
  {
   "cell_type": "code",
   "execution_count": 299,
   "metadata": {},
   "outputs": [
    {
     "name": "stdout",
     "output_type": "stream",
     "text": [
      "Vocabulary size:  19906\n",
      "Existing vectors: 7940\n"
     ]
    }
   ],
   "source": [
    "vocab = get_vocab(pd.concat([cleanedTrainData, cleanedTestData]))\n",
    "embeddings = load_embeddings(nlp, vocab)"
   ]
  },
  {
   "cell_type": "code",
   "execution_count": 300,
   "metadata": {},
   "outputs": [
    {
     "data": {
      "text/plain": [
       "(19907, 300)"
      ]
     },
     "execution_count": 300,
     "metadata": {},
     "output_type": "execute_result"
    }
   ],
   "source": [
    "embeddings.shape"
   ]
  },
  {
   "cell_type": "code",
   "execution_count": 301,
   "metadata": {},
   "outputs": [],
   "source": [
    "## for deep learning\n",
    "from tensorflow.keras import models, layers, preprocessing as kprocessing\n",
    "from tensorflow.keras import backend as K"
   ]
  },
  {
   "cell_type": "code",
   "execution_count": 302,
   "metadata": {},
   "outputs": [],
   "source": [
    "def text2seq(docs, vocab, maxlen):\n",
    "    res = []\n",
    "    for index, row in docs.iterrows():\n",
    "        doc = row['content'].split()\n",
    "        tmp = []\n",
    "        if len(doc) > maxlen:\n",
    "            for i in range(maxlen): # for each doc, keep maxlen words\n",
    "                tmp.append(vocab[doc[i]])\n",
    "        else:\n",
    "            for i in range(len(doc)):\n",
    "                tmp.append(vocab[doc[i]])\n",
    "            for i in range(maxlen - len(doc)):\n",
    "                tmp.append(0)\n",
    "        res.append(tmp)\n",
    "        \n",
    "    return np.array(res)\n"
   ]
  },
  {
   "cell_type": "code",
   "execution_count": 308,
   "metadata": {
    "scrolled": true
   },
   "outputs": [],
   "source": [
    "maxlen = 500 # how many words to check at each document\n",
    "X_train = text2seq(cleanedTrainData, vocab, maxlen)\n",
    "X_test = text2seq(cleanedTestData, vocab, maxlen)\n",
    "\n",
    "# ## encode y\n",
    "# dic_y_mapping = {n:label for n,label in \n",
    "#                  enumerate(np.unique(train_labels))}\n",
    "# inverse_dic = {v:k for k,v in dic_y_mapping.items()}\n",
    "# y_train = np.array([inverse_dic[y] for y in y_train])\n"
   ]
  },
  {
   "cell_type": "code",
   "execution_count": 309,
   "metadata": {},
   "outputs": [
    {
     "name": "stdout",
     "output_type": "stream",
     "text": [
      "Model: \"model_12\"\n",
      "_________________________________________________________________\n",
      "Layer (type)                 Output Shape              Param #   \n",
      "=================================================================\n",
      "input_10 (InputLayer)        [(None, 500)]             0         \n",
      "_________________________________________________________________\n",
      "embedding_9 (Embedding)      (None, 500, 300)          5972100   \n",
      "_________________________________________________________________\n",
      "bidirectional_18 (Bidirectio (None, 500, 1000)         3204000   \n",
      "_________________________________________________________________\n",
      "bidirectional_19 (Bidirectio (None, 1000)              6004000   \n",
      "_________________________________________________________________\n",
      "dense_28 (Dense)             (None, 64)                64064     \n",
      "_________________________________________________________________\n",
      "dense_29 (Dense)             (None, 90)                5850      \n",
      "=================================================================\n",
      "Total params: 15,250,014\n",
      "Trainable params: 9,277,914\n",
      "Non-trainable params: 5,972,100\n",
      "_________________________________________________________________\n"
     ]
    }
   ],
   "source": [
    "## code attention layer\n",
    "def attention_layer(inputs, neurons):\n",
    "    x = layers.Permute((2,1))(inputs)\n",
    "    x = layers.Dense(neurons, activation=\"softmax\")(x)\n",
    "    x = layers.Permute((2,1), name=\"attention\")(x)\n",
    "    x = layers.multiply([inputs, x])\n",
    "    return x\n",
    "\n",
    "## input\n",
    "x_in = layers.Input(shape=(maxlen,))\n",
    "## embedding\n",
    "x = layers.Embedding(input_dim=embeddings.shape[0],  \n",
    "                     output_dim=embeddings.shape[1], \n",
    "                     weights=[embeddings],\n",
    "                     input_length=maxlen, trainable=False)(x_in)\n",
    "## apply attention\n",
    "#x = attention_layer(x, neurons=15)\n",
    "## 2 layers of bidirectional lstm\n",
    "x = layers.Bidirectional(layers.LSTM(units=maxlen, dropout=0.2, \n",
    "                         return_sequences=True))(x) #  return_sequences=True return the whole sequence from LSTM cells\n",
    "x = layers.Bidirectional(layers.LSTM(units=maxlen, dropout=0.2))(x)\n",
    "## final dense layers\n",
    "x = layers.Dense(64, activation='relu')(x)\n",
    "y_out = layers.Dense(90, activation='sigmoid')(x) # 90 possible categories # multi-label classification, use sigmoid\n",
    "## compile\n",
    "model = models.Model(x_in, y_out)\n",
    "model.compile(loss='binary_crossentropy',\n",
    "              optimizer='adam', metrics=['accuracy'])\n",
    "\n",
    "model.summary()"
   ]
  },
  {
   "cell_type": "code",
   "execution_count": null,
   "metadata": {},
   "outputs": [
    {
     "name": "stdout",
     "output_type": "stream",
     "text": [
      "Epoch 1/100\n",
      "31/31 [==============================] - 1112s 36s/step - loss: 0.3884 - accuracy: 0.0409 - val_loss: 0.0615 - val_accuracy: 0.3587\n",
      "Epoch 2/100\n",
      "31/31 [==============================] - 1083s 35s/step - loss: 0.0547 - accuracy: 0.3324 - val_loss: 0.0515 - val_accuracy: 0.3587\n",
      "Epoch 3/100\n",
      "31/31 [==============================] - 1080s 35s/step - loss: 0.0495 - accuracy: 0.3673 - val_loss: 0.0504 - val_accuracy: 0.3587\n",
      "Epoch 4/100\n",
      "31/31 [==============================] - 1028s 33s/step - loss: 0.0490 - accuracy: 0.3677 - val_loss: 0.0503 - val_accuracy: 0.3587\n",
      "Epoch 5/100\n",
      "31/31 [==============================] - 1028s 33s/step - loss: 0.0489 - accuracy: 0.3708 - val_loss: 0.0502 - val_accuracy: 0.3587\n",
      "Epoch 6/100\n",
      "31/31 [==============================] - 1033s 33s/step - loss: 0.0495 - accuracy: 0.3646 - val_loss: 0.0499 - val_accuracy: 0.3587\n",
      "Epoch 7/100\n",
      "31/31 [==============================] - 1091s 35s/step - loss: 0.0480 - accuracy: 0.3661 - val_loss: 0.0495 - val_accuracy: 0.3587\n",
      "Epoch 8/100\n",
      "31/31 [==============================] - 1038s 34s/step - loss: 0.0485 - accuracy: 0.3533 - val_loss: 0.0493 - val_accuracy: 0.3587\n",
      "Epoch 9/100\n",
      "31/31 [==============================] - 1038s 34s/step - loss: 0.0476 - accuracy: 0.3669 - val_loss: 0.0478 - val_accuracy: 0.3683\n",
      "Epoch 10/100\n",
      "31/31 [==============================] - 1026s 33s/step - loss: 0.0456 - accuracy: 0.3786 - val_loss: 0.0445 - val_accuracy: 0.4005\n",
      "Epoch 11/100\n",
      "31/31 [==============================] - 1027s 33s/step - loss: 0.0434 - accuracy: 0.4387 - val_loss: 0.0408 - val_accuracy: 0.5409\n",
      "Epoch 12/100\n",
      "31/31 [==============================] - 1028s 33s/step - loss: 0.0392 - accuracy: 0.5305 - val_loss: 0.0380 - val_accuracy: 0.5946\n",
      "Epoch 13/100\n",
      "31/31 [==============================] - 1026s 33s/step - loss: 0.0368 - accuracy: 0.5677 - val_loss: 0.0357 - val_accuracy: 0.5932\n",
      "Epoch 14/100\n",
      "31/31 [==============================] - 1027s 33s/step - loss: 0.0360 - accuracy: 0.5625 - val_loss: 0.0399 - val_accuracy: 0.4929\n",
      "Epoch 15/100\n",
      "31/31 [==============================] - 1028s 33s/step - loss: 0.0352 - accuracy: 0.5732 - val_loss: 0.0338 - val_accuracy: 0.6274\n",
      "Epoch 16/100\n",
      "31/31 [==============================] - 1025s 33s/step - loss: 0.0329 - accuracy: 0.6057 - val_loss: 0.0336 - val_accuracy: 0.6237\n",
      "Epoch 17/100\n",
      "31/31 [==============================] - 1027s 33s/step - loss: 0.0317 - accuracy: 0.6161 - val_loss: 0.0310 - val_accuracy: 0.6602\n",
      "Epoch 18/100\n",
      "31/31 [==============================] - 1027s 33s/step - loss: 0.0311 - accuracy: 0.6316 - val_loss: 0.0307 - val_accuracy: 0.6658\n",
      "Epoch 19/100\n",
      "31/31 [==============================] - 1028s 33s/step - loss: 0.0301 - accuracy: 0.6381 - val_loss: 0.0307 - val_accuracy: 0.6443\n",
      "Epoch 20/100\n",
      "31/31 [==============================] - 1026s 33s/step - loss: 0.0297 - accuracy: 0.6341 - val_loss: 0.0281 - val_accuracy: 0.6903\n",
      "Epoch 21/100\n",
      "31/31 [==============================] - 1027s 33s/step - loss: 0.0273 - accuracy: 0.6741 - val_loss: 0.0277 - val_accuracy: 0.6853\n",
      "Epoch 22/100\n",
      "31/31 [==============================] - 1027s 33s/step - loss: 0.0266 - accuracy: 0.6676 - val_loss: 0.0267 - val_accuracy: 0.6920\n",
      "Epoch 23/100\n",
      "31/31 [==============================] - 1026s 33s/step - loss: 0.0247 - accuracy: 0.6853 - val_loss: 0.0255 - val_accuracy: 0.7006\n",
      "Epoch 24/100\n",
      "31/31 [==============================] - 1027s 33s/step - loss: 0.0245 - accuracy: 0.6770 - val_loss: 0.0279 - val_accuracy: 0.6767\n",
      "Epoch 25/100\n",
      "31/31 [==============================] - 1026s 33s/step - loss: 0.0255 - accuracy: 0.6756 - val_loss: 0.0246 - val_accuracy: 0.7088\n",
      "Epoch 26/100\n",
      "31/31 [==============================] - 1026s 33s/step - loss: 0.0233 - accuracy: 0.6933 - val_loss: 0.0235 - val_accuracy: 0.7161\n",
      "Epoch 27/100\n",
      "31/31 [==============================] - 1027s 33s/step - loss: 0.0222 - accuracy: 0.7000 - val_loss: 0.0229 - val_accuracy: 0.7145\n",
      "Epoch 28/100\n",
      "31/31 [==============================] - 1032s 33s/step - loss: 0.0207 - accuracy: 0.7169 - val_loss: 0.0226 - val_accuracy: 0.7274\n",
      "Epoch 29/100\n",
      "31/31 [==============================] - 1026s 33s/step - loss: 0.0202 - accuracy: 0.7311 - val_loss: 0.0223 - val_accuracy: 0.7327\n",
      "Epoch 30/100\n",
      "31/31 [==============================] - 1025s 33s/step - loss: 0.0200 - accuracy: 0.7343 - val_loss: 0.0215 - val_accuracy: 0.7536\n",
      "Epoch 31/100\n",
      "31/31 [==============================] - 1027s 33s/step - loss: 0.0194 - accuracy: 0.7531 - val_loss: 0.0224 - val_accuracy: 0.7436\n",
      "Epoch 32/100\n",
      "31/31 [==============================] - 1026s 33s/step - loss: 0.0193 - accuracy: 0.7482 - val_loss: 0.0208 - val_accuracy: 0.7559\n",
      "Epoch 33/100\n",
      "31/31 [==============================] - 1025s 33s/step - loss: 0.0181 - accuracy: 0.7670 - val_loss: 0.0205 - val_accuracy: 0.7602\n",
      "Epoch 34/100\n",
      "31/31 [==============================] - 1025s 33s/step - loss: 0.0171 - accuracy: 0.7865 - val_loss: 0.0208 - val_accuracy: 0.7695\n",
      "Epoch 35/100\n",
      "31/31 [==============================] - 1027s 33s/step - loss: 0.0170 - accuracy: 0.7872 - val_loss: 0.0194 - val_accuracy: 0.7724\n",
      "Epoch 36/100\n",
      "31/31 [==============================] - 1025s 33s/step - loss: 0.0163 - accuracy: 0.7965 - val_loss: 0.0195 - val_accuracy: 0.7708\n",
      "Epoch 37/100\n",
      "31/31 [==============================] - 1026s 33s/step - loss: 0.0155 - accuracy: 0.7964 - val_loss: 0.0188 - val_accuracy: 0.7827\n",
      "Epoch 38/100\n",
      "31/31 [==============================] - 1027s 33s/step - loss: 0.0149 - accuracy: 0.8027 - val_loss: 0.0185 - val_accuracy: 0.7784\n",
      "Epoch 39/100\n",
      "31/31 [==============================] - 1051s 34s/step - loss: 0.0151 - accuracy: 0.8006 - val_loss: 0.0184 - val_accuracy: 0.7867\n",
      "Epoch 40/100\n",
      "31/31 [==============================] - 1026s 33s/step - loss: 0.0140 - accuracy: 0.8145 - val_loss: 0.0184 - val_accuracy: 0.7877\n",
      "Epoch 41/100\n",
      "31/31 [==============================] - 1026s 33s/step - loss: 0.0141 - accuracy: 0.8209 - val_loss: 0.0181 - val_accuracy: 0.7920\n",
      "Epoch 42/100\n",
      "31/31 [==============================] - 1027s 33s/step - loss: 0.0141 - accuracy: 0.8125 - val_loss: 0.0177 - val_accuracy: 0.7933\n",
      "Epoch 43/100\n",
      "31/31 [==============================] - 1027s 33s/step - loss: 0.0135 - accuracy: 0.8161 - val_loss: 0.0177 - val_accuracy: 0.7867\n",
      "Epoch 44/100\n",
      "31/31 [==============================] - 1026s 33s/step - loss: 0.0130 - accuracy: 0.8218 - val_loss: 0.0178 - val_accuracy: 0.7953\n",
      "Epoch 45/100\n",
      "31/31 [==============================] - 1027s 33s/step - loss: 0.0133 - accuracy: 0.8217 - val_loss: 0.0181 - val_accuracy: 0.7940\n",
      "Epoch 46/100\n",
      "31/31 [==============================] - 1027s 33s/step - loss: 0.0121 - accuracy: 0.8222 - val_loss: 0.0174 - val_accuracy: 0.8023\n",
      "Epoch 47/100\n",
      "31/31 [==============================] - 1027s 33s/step - loss: 0.0123 - accuracy: 0.8306 - val_loss: 0.0180 - val_accuracy: 0.7854\n",
      "Epoch 48/100\n",
      "31/31 [==============================] - 1025s 33s/step - loss: 0.0121 - accuracy: 0.8261 - val_loss: 0.0171 - val_accuracy: 0.7966\n",
      "Epoch 49/100\n",
      "31/31 [==============================] - 1027s 33s/step - loss: 0.0115 - accuracy: 0.8320 - val_loss: 0.0170 - val_accuracy: 0.8013\n",
      "Epoch 50/100\n",
      "31/31 [==============================] - 1027s 33s/step - loss: 0.0115 - accuracy: 0.8363 - val_loss: 0.0178 - val_accuracy: 0.8019\n",
      "Epoch 51/100\n",
      "31/31 [==============================] - 1025s 33s/step - loss: 0.0111 - accuracy: 0.8392 - val_loss: 0.0168 - val_accuracy: 0.8046\n",
      "Epoch 52/100\n",
      "31/31 [==============================] - 1052s 34s/step - loss: 0.0105 - accuracy: 0.8438 - val_loss: 0.0170 - val_accuracy: 0.8009\n",
      "Epoch 53/100\n",
      "31/31 [==============================] - 1092s 35s/step - loss: 0.0106 - accuracy: 0.8385 - val_loss: 0.0173 - val_accuracy: 0.7930\n",
      "Epoch 54/100\n",
      "31/31 [==============================] - 1090s 35s/step - loss: 0.0103 - accuracy: 0.8430 - val_loss: 0.0164 - val_accuracy: 0.8059\n",
      "Epoch 55/100\n",
      "31/31 [==============================] - 1134s 37s/step - loss: 0.0097 - accuracy: 0.8497 - val_loss: 0.0165 - val_accuracy: 0.8148\n",
      "Epoch 56/100\n",
      "31/31 [==============================] - 1063s 34s/step - loss: 0.0091 - accuracy: 0.8572 - val_loss: 0.0166 - val_accuracy: 0.8115\n",
      "Epoch 57/100\n"
     ]
    },
    {
     "name": "stdout",
     "output_type": "stream",
     "text": [
      "31/31 [==============================] - 1079s 35s/step - loss: 0.0094 - accuracy: 0.8580 - val_loss: 0.0160 - val_accuracy: 0.8182\n",
      "Epoch 58/100\n",
      "31/31 [==============================] - 1042s 34s/step - loss: 0.0094 - accuracy: 0.8551 - val_loss: 0.0158 - val_accuracy: 0.8135\n",
      "Epoch 59/100\n",
      "31/31 [==============================] - 1029s 33s/step - loss: 0.0087 - accuracy: 0.8630 - val_loss: 0.0158 - val_accuracy: 0.8175\n",
      "Epoch 60/100\n",
      "31/31 [==============================] - 1027s 33s/step - loss: 0.0088 - accuracy: 0.8599 - val_loss: 0.0163 - val_accuracy: 0.8205\n",
      "Epoch 61/100\n",
      "31/31 [==============================] - 1028s 33s/step - loss: 0.0084 - accuracy: 0.8656 - val_loss: 0.0164 - val_accuracy: 0.8228\n",
      "Epoch 62/100\n",
      "31/31 [==============================] - 1027s 33s/step - loss: 0.0080 - accuracy: 0.8635 - val_loss: 0.0170 - val_accuracy: 0.8076\n",
      "Epoch 63/100\n",
      "31/31 [==============================] - 1029s 33s/step - loss: 0.0096 - accuracy: 0.8500 - val_loss: 0.0159 - val_accuracy: 0.8198\n",
      "Epoch 64/100\n",
      "31/31 [==============================] - 1027s 33s/step - loss: 0.0085 - accuracy: 0.8657 - val_loss: 0.0160 - val_accuracy: 0.8268\n",
      "Epoch 65/100\n",
      "31/31 [==============================] - 1028s 33s/step - loss: 0.0077 - accuracy: 0.8691 - val_loss: 0.0153 - val_accuracy: 0.8251\n",
      "Epoch 66/100\n",
      "31/31 [==============================] - 1032s 33s/step - loss: 0.0074 - accuracy: 0.8704 - val_loss: 0.0160 - val_accuracy: 0.8218\n",
      "Epoch 67/100\n",
      "31/31 [==============================] - 1027s 33s/step - loss: 0.0073 - accuracy: 0.8741 - val_loss: 0.0158 - val_accuracy: 0.8261\n",
      "Epoch 68/100\n",
      "21/31 [===================>..........] - ETA: 5:27 - loss: 0.0067 - accuracy: 0.8807"
     ]
    }
   ],
   "source": [
    "## train\n",
    "training = model.fit(x=X_train, y=train_labels, validation_data=(X_test, test_labels), batch_size=256, \n",
    "                     epochs=100, shuffle=True, verbose=1) #validation_split=0.3\n",
    "## plot loss and accuracy\n",
    "metrics = [k for k in training.history.keys() if (\"loss\" not in k) and (\"val\" not in k)]\n",
    "fig, ax = plt.subplots(nrows=1, ncols=2, sharey=True)\n",
    "ax[0].set(title=\"Training\")\n",
    "ax11 = ax[0].twinx()\n",
    "ax[0].plot(training.history['loss'], color='black')\n",
    "ax[0].set_xlabel('Epochs')\n",
    "ax[0].set_ylabel('Loss', color='black')\n",
    "for metric in metrics:\n",
    "    ax11.plot(training.history[metric], label=metric)\n",
    "ax11.set_ylabel(\"Score\", color='steelblue')\n",
    "ax11.legend()\n",
    "ax[1].set(title=\"Validation\")\n",
    "ax22 = ax[1].twinx()\n",
    "ax[1].plot(training.history['val_loss'], color='black')\n",
    "ax[1].set_xlabel('Epochs')\n",
    "ax[1].set_ylabel('Loss', color='black')\n",
    "for metric in metrics:\n",
    "     ax22.plot(training.history['val_'+metric], label=metric)\n",
    "ax22.set_ylabel(\"Score\", color=\"steelblue\")\n",
    "plt.show()"
   ]
  },
  {
   "cell_type": "code",
   "execution_count": 306,
   "metadata": {},
   "outputs": [],
   "source": [
    "## test\n",
    "th = 0.5\n",
    "LSTM_preds = model.predict(X_test)\n",
    "LSTM_preds[LSTM_preds>=th] = 1\n",
    "LSTM_preds[LSTM_preds<th] = 0"
   ]
  },
  {
   "cell_type": "code",
   "execution_count": 307,
   "metadata": {},
   "outputs": [
    {
     "name": "stdout",
     "output_type": "stream",
     "text": [
      "\n",
      "Classification Report\n",
      "\n",
      "              precision    recall  f1-score   support\n",
      "\n",
      "           0       0.97      0.92      0.95       719\n",
      "           1       0.71      0.22      0.33        23\n",
      "           2       0.41      0.50      0.45        14\n",
      "           3       0.46      0.60      0.52        30\n",
      "           4       0.64      0.39      0.48        18\n",
      "           5       0.00      0.00      0.00         1\n",
      "           6       0.94      0.89      0.91        18\n",
      "           7       0.00      0.00      0.00         2\n",
      "           8       0.00      0.00      0.00         3\n",
      "           9       0.89      0.89      0.89        28\n",
      "          10       0.73      0.61      0.67        18\n",
      "          11       0.00      0.00      0.00         1\n",
      "          12       0.58      0.77      0.66        56\n",
      "          13       0.65      0.55      0.59        20\n",
      "          14       0.00      0.00      0.00         2\n",
      "          15       0.60      0.43      0.50        28\n",
      "          16       0.00      0.00      0.00         1\n",
      "          17       0.83      0.90      0.86       189\n",
      "          18       0.00      0.00      0.00         1\n",
      "          19       0.78      0.70      0.74        44\n",
      "          20       0.00      0.00      0.00         4\n",
      "          21       0.97      0.99      0.98      1087\n",
      "          22       0.00      0.00      0.00        10\n",
      "          23       0.67      0.47      0.55        17\n",
      "          24       0.75      0.69      0.72        35\n",
      "          25       0.91      0.67      0.77        30\n",
      "          26       0.93      0.87      0.90       149\n",
      "          27       0.00      0.00      0.00         4\n",
      "          28       0.00      0.00      0.00         1\n",
      "          29       0.25      0.40      0.31         5\n",
      "          30       1.00      0.33      0.50         6\n",
      "          31       0.67      0.50      0.57         4\n",
      "          32       0.00      0.00      0.00         7\n",
      "          33       0.00      0.00      0.00         1\n",
      "          34       0.91      0.69      0.78       131\n",
      "          35       0.75      1.00      0.86        12\n",
      "          36       0.50      0.50      0.50        14\n",
      "          37       0.00      0.00      0.00         1\n",
      "          38       0.88      0.33      0.48        21\n",
      "          39       0.00      0.00      0.00         2\n",
      "          40       1.00      0.07      0.13        14\n",
      "          41       0.00      0.00      0.00         3\n",
      "          42       0.00      0.00      0.00         1\n",
      "          43       0.65      0.54      0.59        24\n",
      "          44       0.00      0.00      0.00         6\n",
      "          45       0.83      0.26      0.40        19\n",
      "          46       0.82      0.73      0.77       179\n",
      "          47       0.76      0.76      0.76        34\n",
      "          48       0.00      0.00      0.00         4\n",
      "          49       0.50      0.20      0.29        30\n",
      "          50       0.00      0.00      0.00         1\n",
      "          51       0.00      0.00      0.00         2\n",
      "          52       0.00      0.00      0.00         2\n",
      "          53       0.00      0.00      0.00         6\n",
      "          54       0.65      0.55      0.60        47\n",
      "          55       1.00      0.09      0.17        11\n",
      "          56       0.00      0.00      0.00         1\n",
      "          57       1.00      0.50      0.67        10\n",
      "          58       0.00      0.00      0.00         1\n",
      "          59       0.00      0.00      0.00        12\n",
      "          60       0.00      0.00      0.00         7\n",
      "          61       0.00      0.00      0.00         3\n",
      "          62       0.00      0.00      0.00         3\n",
      "          63       0.00      0.00      0.00         1\n",
      "          64       0.00      0.00      0.00         3\n",
      "          65       1.00      0.44      0.62         9\n",
      "          66       0.67      0.67      0.67        18\n",
      "          67       0.00      0.00      0.00         2\n",
      "          68       1.00      0.29      0.45        24\n",
      "          69       0.62      0.42      0.50        12\n",
      "          70       0.00      0.00      0.00         1\n",
      "          71       0.88      0.81      0.84        89\n",
      "          72       0.00      0.00      0.00         8\n",
      "          73       0.55      0.60      0.57        10\n",
      "          74       1.00      0.23      0.38        13\n",
      "          75       0.50      0.18      0.27        11\n",
      "          76       0.65      0.67      0.66        33\n",
      "          77       0.00      0.00      0.00        11\n",
      "          78       1.00      0.69      0.82        36\n",
      "          79       0.00      0.00      0.00         1\n",
      "          80       0.00      0.00      0.00         2\n",
      "          81       0.17      0.20      0.18         5\n",
      "          82       0.00      0.00      0.00         4\n",
      "          83       0.00      0.00      0.00        12\n",
      "          84       0.65      0.83      0.73       117\n",
      "          85       0.89      0.46      0.61        37\n",
      "          86       0.85      0.82      0.83        71\n",
      "          87       0.71      0.50      0.59        10\n",
      "          88       0.80      0.29      0.42        14\n",
      "          89       0.50      0.15      0.24        13\n",
      "\n",
      "   micro avg       0.87      0.79      0.83      3744\n",
      "   macro avg       0.42      0.31      0.34      3744\n",
      "weighted avg       0.85      0.79      0.80      3744\n",
      " samples avg       0.86      0.85      0.84      3744\n",
      "\n"
     ]
    }
   ],
   "source": [
    "#from sklearn.metrics import classification_report\n",
    "print('\\nClassification Report\\n')\n",
    "print(classification_report(test_labels, LSTM_preds))"
   ]
  },
  {
   "cell_type": "code",
   "execution_count": 158,
   "metadata": {},
   "outputs": [
    {
     "data": {
      "text/plain": [
       "(7769, 90)"
      ]
     },
     "execution_count": 158,
     "metadata": {},
     "output_type": "execute_result"
    }
   ],
   "source": [
    "train_labels.shape"
   ]
  },
  {
   "cell_type": "markdown",
   "metadata": {},
   "source": [
    "# BERT Bidirectional Encoder Representations from Transformers"
   ]
  },
  {
   "cell_type": "code",
   "execution_count": 287,
   "metadata": {},
   "outputs": [],
   "source": [
    "## for bert language model\n",
    "import transformers\n",
    "import re"
   ]
  },
  {
   "cell_type": "code",
   "execution_count": 288,
   "metadata": {},
   "outputs": [],
   "source": [
    "from transformers import AutoTokenizer\n",
    "tokenizer = AutoTokenizer.from_pretrained('bert-base-uncased')\n",
    "\n",
    "train_texts = trainDf[\"content\"].to_list()\n",
    "\n",
    "train_encodings = tokenizer(train_texts, truncation=True, padding=True)\n",
    "#valid_encodings = tokenizer(valid_texts, truncation=True, padding=True)\n",
    "#test_encodings = tokenizer(test_texts, truncation=True, padding=True)"
   ]
  },
  {
   "cell_type": "code",
   "execution_count": 289,
   "metadata": {},
   "outputs": [
    {
     "name": "stderr",
     "output_type": "stream",
     "text": [
      "Some layers from the model checkpoint at bert-base-uncased were not used when initializing TFBertModel: ['nsp___cls', 'mlm___cls']\n",
      "- This IS expected if you are initializing TFBertModel from the checkpoint of a model trained on another task or with another architecture (e.g. initializing a BertForSequenceClassification model from a BertForPreTraining model).\n",
      "- This IS NOT expected if you are initializing TFBertModel from the checkpoint of a model that you expect to be exactly identical (initializing a BertForSequenceClassification model from a BertForSequenceClassification model).\n",
      "All the layers of TFBertModel were initialized from the model checkpoint at bert-base-uncased.\n",
      "If your task is similar to the task the model of the checkpoint was trained on, you can already use TFBertModel for predictions without further training.\n",
      "The parameters `output_attentions`, `output_hidden_states` and `use_cache` cannot be updated when calling a model.They have to be set to True/False in the config object (i.e.: `config=XConfig.from_pretrained('name', output_attentions=True)`).\n",
      "The parameter `return_dict` cannot be set in graph mode and will always be set to `True`.\n"
     ]
    },
    {
     "name": "stdout",
     "output_type": "stream",
     "text": [
      "Model: \"model_10\"\n",
      "__________________________________________________________________________________________________\n",
      "Layer (type)                    Output Shape         Param #     Connected to                     \n",
      "==================================================================================================\n",
      "input_idx (InputLayer)          [(None, 512)]        0                                            \n",
      "__________________________________________________________________________________________________\n",
      "input_segments (InputLayer)     [(None, 512)]        0                                            \n",
      "__________________________________________________________________________________________________\n",
      "input_masks (InputLayer)        [(None, 512)]        0                                            \n",
      "__________________________________________________________________________________________________\n",
      "tf_bert_model_4 (TFBertModel)   TFBaseModelOutputWit 109482240   input_idx[0][0]                  \n",
      "                                                                 input_segments[0][0]             \n",
      "                                                                 input_masks[0][0]                \n",
      "__________________________________________________________________________________________________\n",
      "global_average_pooling1d_4 (Glo (None, 768)          0           tf_bert_model_4[0][0]            \n",
      "__________________________________________________________________________________________________\n",
      "dense_24 (Dense)                (None, 64)           49216       global_average_pooling1d_4[0][0] \n",
      "__________________________________________________________________________________________________\n",
      "dense_25 (Dense)                (None, 90)           5850        dense_24[0][0]                   \n",
      "==================================================================================================\n",
      "Total params: 109,537,306\n",
      "Trainable params: 55,066\n",
      "Non-trainable params: 109,482,240\n",
      "__________________________________________________________________________________________________\n"
     ]
    }
   ],
   "source": [
    "## inputs\n",
    "input_ids = layers.Input((512), dtype=\"int32\", name=\"input_idx\")\n",
    "token_type_ids = layers.Input((512), dtype=\"int32\", name=\"input_masks\")\n",
    "attention_mask = layers.Input((512), dtype=\"int32\", name=\"input_segments\")\n",
    "## pre-trained bert\n",
    "nlp = transformers.TFBertModel.from_pretrained(\"bert-base-uncased\")\n",
    "bert_out = nlp(input_ids, token_type_ids=token_type_ids, attention_mask=attention_mask)[0]\n",
    "## fine-tuning\n",
    "x = layers.GlobalAveragePooling1D()(bert_out)\n",
    "x = layers.Dense(64, activation=\"relu\")(x)\n",
    "y_out = layers.Dense(90, \n",
    "                     activation='sigmoid')(x)\n",
    "## compile\n",
    "model = models.Model([input_ids, token_type_ids, attention_mask], y_out)\n",
    "for layer in model.layers[:4]:\n",
    "    layer.trainable = False\n",
    "model.compile(loss='binary_crossentropy', \n",
    "              optimizer='adam', metrics=['accuracy'])\n",
    "\n",
    "model.summary()"
   ]
  },
  {
   "cell_type": "code",
   "execution_count": 290,
   "metadata": {},
   "outputs": [
    {
     "name": "stderr",
     "output_type": "stream",
     "text": [
      "The parameters `output_attentions`, `output_hidden_states` and `use_cache` cannot be updated when calling a model.They have to be set to True/False in the config object (i.e.: `config=XConfig.from_pretrained('name', output_attentions=True)`).\n",
      "The parameter `return_dict` cannot be set in graph mode and will always be set to `True`.\n"
     ]
    },
    {
     "name": "stdout",
     "output_type": "stream",
     "text": [
      "Epoch 1/100\n",
      "\n"
     ]
    },
    {
     "name": "stderr",
     "output_type": "stream",
     "text": [
      "The parameters `output_attentions`, `output_hidden_states` and `use_cache` cannot be updated when calling a model.They have to be set to True/False in the config object (i.e.: `config=XConfig.from_pretrained('name', output_attentions=True)`).\n",
      "The parameter `return_dict` cannot be set in graph mode and will always be set to `True`.\n"
     ]
    },
    {
     "name": "stdout",
     "output_type": "stream",
     "text": [
      "31/31 [==============================] - 5795s 186s/step - loss: 0.5866 - accuracy: 0.0684\n",
      "Epoch 2/100\n",
      "31/31 [==============================] - 5698s 184s/step - loss: 0.1071 - accuracy: 0.1103\n",
      "Epoch 3/100\n",
      "31/31 [==============================] - 5682s 183s/step - loss: 0.0477 - accuracy: 0.4775\n",
      "Epoch 4/100\n",
      "31/31 [==============================] - 5714s 184s/step - loss: 0.0432 - accuracy: 0.5300\n",
      "Epoch 5/100\n",
      "31/31 [==============================] - 5713s 184s/step - loss: 0.0403 - accuracy: 0.5495\n",
      "Epoch 6/100\n",
      "31/31 [==============================] - 5697s 184s/step - loss: 0.0377 - accuracy: 0.5723\n",
      "Epoch 7/100\n",
      "31/31 [==============================] - 5636s 182s/step - loss: 0.0358 - accuracy: 0.6000\n",
      "Epoch 8/100\n",
      "31/31 [==============================] - 5027s 162s/step - loss: 0.0351 - accuracy: 0.6081\n",
      "Epoch 9/100\n",
      "31/31 [==============================] - 4977s 160s/step - loss: 0.0332 - accuracy: 0.6214\n",
      "Epoch 10/100\n",
      "31/31 [==============================] - 4970s 160s/step - loss: 0.0314 - accuracy: 0.6449\n",
      "Epoch 11/100\n",
      "31/31 [==============================] - 4977s 160s/step - loss: 0.0308 - accuracy: 0.6433\n",
      "Epoch 12/100\n",
      "31/31 [==============================] - 4983s 161s/step - loss: 0.0292 - accuracy: 0.6538\n",
      "Epoch 13/100\n",
      "31/31 [==============================] - 5103s 165s/step - loss: 0.0288 - accuracy: 0.6640\n",
      "Epoch 14/100\n",
      "31/31 [==============================] - 5016s 162s/step - loss: 0.0283 - accuracy: 0.6714\n",
      "Epoch 15/100\n",
      " 9/31 [=======>......................] - ETA: 1:00:31 - loss: 0.0282 - accuracy: 0.6635"
     ]
    },
    {
     "ename": "KeyboardInterrupt",
     "evalue": "",
     "output_type": "error",
     "traceback": [
      "\u001b[0;31m---------------------------------------------------------------------------\u001b[0m",
      "\u001b[0;31mKeyboardInterrupt\u001b[0m                         Traceback (most recent call last)",
      "\u001b[0;32m<ipython-input-290-509e1bf06f94>\u001b[0m in \u001b[0;36m<module>\u001b[0;34m\u001b[0m\n\u001b[1;32m      1\u001b[0m training = model.fit(x=[np.array(train_encodings['input_ids']), np.array(train_encodings['token_type_ids']), np.array(train_encodings['attention_mask'])], y=train_labels, batch_size=256, \n\u001b[0;32m----> 2\u001b[0;31m                      epochs=100, shuffle=True, verbose=1) \n\u001b[0m",
      "\u001b[0;32m~/miniconda3/envs/nlp/lib/python3.7/site-packages/tensorflow/python/keras/engine/training.py\u001b[0m in \u001b[0;36mfit\u001b[0;34m(self, x, y, batch_size, epochs, verbose, callbacks, validation_split, validation_data, shuffle, class_weight, sample_weight, initial_epoch, steps_per_epoch, validation_steps, validation_batch_size, validation_freq, max_queue_size, workers, use_multiprocessing)\u001b[0m\n\u001b[1;32m   1098\u001b[0m                 _r=1):\n\u001b[1;32m   1099\u001b[0m               \u001b[0mcallbacks\u001b[0m\u001b[0;34m.\u001b[0m\u001b[0mon_train_batch_begin\u001b[0m\u001b[0;34m(\u001b[0m\u001b[0mstep\u001b[0m\u001b[0;34m)\u001b[0m\u001b[0;34m\u001b[0m\u001b[0;34m\u001b[0m\u001b[0m\n\u001b[0;32m-> 1100\u001b[0;31m               \u001b[0mtmp_logs\u001b[0m \u001b[0;34m=\u001b[0m \u001b[0mself\u001b[0m\u001b[0;34m.\u001b[0m\u001b[0mtrain_function\u001b[0m\u001b[0;34m(\u001b[0m\u001b[0miterator\u001b[0m\u001b[0;34m)\u001b[0m\u001b[0;34m\u001b[0m\u001b[0;34m\u001b[0m\u001b[0m\n\u001b[0m\u001b[1;32m   1101\u001b[0m               \u001b[0;32mif\u001b[0m \u001b[0mdata_handler\u001b[0m\u001b[0;34m.\u001b[0m\u001b[0mshould_sync\u001b[0m\u001b[0;34m:\u001b[0m\u001b[0;34m\u001b[0m\u001b[0;34m\u001b[0m\u001b[0m\n\u001b[1;32m   1102\u001b[0m                 \u001b[0mcontext\u001b[0m\u001b[0;34m.\u001b[0m\u001b[0masync_wait\u001b[0m\u001b[0;34m(\u001b[0m\u001b[0;34m)\u001b[0m\u001b[0;34m\u001b[0m\u001b[0;34m\u001b[0m\u001b[0m\n",
      "\u001b[0;32m~/miniconda3/envs/nlp/lib/python3.7/site-packages/tensorflow/python/eager/def_function.py\u001b[0m in \u001b[0;36m__call__\u001b[0;34m(self, *args, **kwds)\u001b[0m\n\u001b[1;32m    826\u001b[0m     \u001b[0mtracing_count\u001b[0m \u001b[0;34m=\u001b[0m \u001b[0mself\u001b[0m\u001b[0;34m.\u001b[0m\u001b[0mexperimental_get_tracing_count\u001b[0m\u001b[0;34m(\u001b[0m\u001b[0;34m)\u001b[0m\u001b[0;34m\u001b[0m\u001b[0;34m\u001b[0m\u001b[0m\n\u001b[1;32m    827\u001b[0m     \u001b[0;32mwith\u001b[0m \u001b[0mtrace\u001b[0m\u001b[0;34m.\u001b[0m\u001b[0mTrace\u001b[0m\u001b[0;34m(\u001b[0m\u001b[0mself\u001b[0m\u001b[0;34m.\u001b[0m\u001b[0m_name\u001b[0m\u001b[0;34m)\u001b[0m \u001b[0;32mas\u001b[0m \u001b[0mtm\u001b[0m\u001b[0;34m:\u001b[0m\u001b[0;34m\u001b[0m\u001b[0;34m\u001b[0m\u001b[0m\n\u001b[0;32m--> 828\u001b[0;31m       \u001b[0mresult\u001b[0m \u001b[0;34m=\u001b[0m \u001b[0mself\u001b[0m\u001b[0;34m.\u001b[0m\u001b[0m_call\u001b[0m\u001b[0;34m(\u001b[0m\u001b[0;34m*\u001b[0m\u001b[0margs\u001b[0m\u001b[0;34m,\u001b[0m \u001b[0;34m**\u001b[0m\u001b[0mkwds\u001b[0m\u001b[0;34m)\u001b[0m\u001b[0;34m\u001b[0m\u001b[0;34m\u001b[0m\u001b[0m\n\u001b[0m\u001b[1;32m    829\u001b[0m       \u001b[0mcompiler\u001b[0m \u001b[0;34m=\u001b[0m \u001b[0;34m\"xla\"\u001b[0m \u001b[0;32mif\u001b[0m \u001b[0mself\u001b[0m\u001b[0;34m.\u001b[0m\u001b[0m_experimental_compile\u001b[0m \u001b[0;32melse\u001b[0m \u001b[0;34m\"nonXla\"\u001b[0m\u001b[0;34m\u001b[0m\u001b[0;34m\u001b[0m\u001b[0m\n\u001b[1;32m    830\u001b[0m       \u001b[0mnew_tracing_count\u001b[0m \u001b[0;34m=\u001b[0m \u001b[0mself\u001b[0m\u001b[0;34m.\u001b[0m\u001b[0mexperimental_get_tracing_count\u001b[0m\u001b[0;34m(\u001b[0m\u001b[0;34m)\u001b[0m\u001b[0;34m\u001b[0m\u001b[0;34m\u001b[0m\u001b[0m\n",
      "\u001b[0;32m~/miniconda3/envs/nlp/lib/python3.7/site-packages/tensorflow/python/eager/def_function.py\u001b[0m in \u001b[0;36m_call\u001b[0;34m(self, *args, **kwds)\u001b[0m\n\u001b[1;32m    853\u001b[0m       \u001b[0;31m# In this case we have created variables on the first call, so we run the\u001b[0m\u001b[0;34m\u001b[0m\u001b[0;34m\u001b[0m\u001b[0;34m\u001b[0m\u001b[0m\n\u001b[1;32m    854\u001b[0m       \u001b[0;31m# defunned version which is guaranteed to never create variables.\u001b[0m\u001b[0;34m\u001b[0m\u001b[0;34m\u001b[0m\u001b[0;34m\u001b[0m\u001b[0m\n\u001b[0;32m--> 855\u001b[0;31m       \u001b[0;32mreturn\u001b[0m \u001b[0mself\u001b[0m\u001b[0;34m.\u001b[0m\u001b[0m_stateless_fn\u001b[0m\u001b[0;34m(\u001b[0m\u001b[0;34m*\u001b[0m\u001b[0margs\u001b[0m\u001b[0;34m,\u001b[0m \u001b[0;34m**\u001b[0m\u001b[0mkwds\u001b[0m\u001b[0;34m)\u001b[0m  \u001b[0;31m# pylint: disable=not-callable\u001b[0m\u001b[0;34m\u001b[0m\u001b[0;34m\u001b[0m\u001b[0m\n\u001b[0m\u001b[1;32m    856\u001b[0m     \u001b[0;32melif\u001b[0m \u001b[0mself\u001b[0m\u001b[0;34m.\u001b[0m\u001b[0m_stateful_fn\u001b[0m \u001b[0;32mis\u001b[0m \u001b[0;32mnot\u001b[0m \u001b[0;32mNone\u001b[0m\u001b[0;34m:\u001b[0m\u001b[0;34m\u001b[0m\u001b[0;34m\u001b[0m\u001b[0m\n\u001b[1;32m    857\u001b[0m       \u001b[0;31m# Release the lock early so that multiple threads can perform the call\u001b[0m\u001b[0;34m\u001b[0m\u001b[0;34m\u001b[0m\u001b[0;34m\u001b[0m\u001b[0m\n",
      "\u001b[0;32m~/miniconda3/envs/nlp/lib/python3.7/site-packages/tensorflow/python/eager/function.py\u001b[0m in \u001b[0;36m__call__\u001b[0;34m(self, *args, **kwargs)\u001b[0m\n\u001b[1;32m   2941\u001b[0m        filtered_flat_args) = self._maybe_define_function(args, kwargs)\n\u001b[1;32m   2942\u001b[0m     return graph_function._call_flat(\n\u001b[0;32m-> 2943\u001b[0;31m         filtered_flat_args, captured_inputs=graph_function.captured_inputs)  # pylint: disable=protected-access\n\u001b[0m\u001b[1;32m   2944\u001b[0m \u001b[0;34m\u001b[0m\u001b[0m\n\u001b[1;32m   2945\u001b[0m   \u001b[0;34m@\u001b[0m\u001b[0mproperty\u001b[0m\u001b[0;34m\u001b[0m\u001b[0;34m\u001b[0m\u001b[0m\n",
      "\u001b[0;32m~/miniconda3/envs/nlp/lib/python3.7/site-packages/tensorflow/python/eager/function.py\u001b[0m in \u001b[0;36m_call_flat\u001b[0;34m(self, args, captured_inputs, cancellation_manager)\u001b[0m\n\u001b[1;32m   1917\u001b[0m       \u001b[0;31m# No tape is watching; skip to running the function.\u001b[0m\u001b[0;34m\u001b[0m\u001b[0;34m\u001b[0m\u001b[0;34m\u001b[0m\u001b[0m\n\u001b[1;32m   1918\u001b[0m       return self._build_call_outputs(self._inference_function.call(\n\u001b[0;32m-> 1919\u001b[0;31m           ctx, args, cancellation_manager=cancellation_manager))\n\u001b[0m\u001b[1;32m   1920\u001b[0m     forward_backward = self._select_forward_and_backward_functions(\n\u001b[1;32m   1921\u001b[0m         \u001b[0margs\u001b[0m\u001b[0;34m,\u001b[0m\u001b[0;34m\u001b[0m\u001b[0;34m\u001b[0m\u001b[0m\n",
      "\u001b[0;32m~/miniconda3/envs/nlp/lib/python3.7/site-packages/tensorflow/python/eager/function.py\u001b[0m in \u001b[0;36mcall\u001b[0;34m(self, ctx, args, cancellation_manager)\u001b[0m\n\u001b[1;32m    558\u001b[0m               \u001b[0minputs\u001b[0m\u001b[0;34m=\u001b[0m\u001b[0margs\u001b[0m\u001b[0;34m,\u001b[0m\u001b[0;34m\u001b[0m\u001b[0;34m\u001b[0m\u001b[0m\n\u001b[1;32m    559\u001b[0m               \u001b[0mattrs\u001b[0m\u001b[0;34m=\u001b[0m\u001b[0mattrs\u001b[0m\u001b[0;34m,\u001b[0m\u001b[0;34m\u001b[0m\u001b[0;34m\u001b[0m\u001b[0m\n\u001b[0;32m--> 560\u001b[0;31m               ctx=ctx)\n\u001b[0m\u001b[1;32m    561\u001b[0m         \u001b[0;32melse\u001b[0m\u001b[0;34m:\u001b[0m\u001b[0;34m\u001b[0m\u001b[0;34m\u001b[0m\u001b[0m\n\u001b[1;32m    562\u001b[0m           outputs = execute.execute_with_cancellation(\n",
      "\u001b[0;32m~/miniconda3/envs/nlp/lib/python3.7/site-packages/tensorflow/python/eager/execute.py\u001b[0m in \u001b[0;36mquick_execute\u001b[0;34m(op_name, num_outputs, inputs, attrs, ctx, name)\u001b[0m\n\u001b[1;32m     58\u001b[0m     \u001b[0mctx\u001b[0m\u001b[0;34m.\u001b[0m\u001b[0mensure_initialized\u001b[0m\u001b[0;34m(\u001b[0m\u001b[0;34m)\u001b[0m\u001b[0;34m\u001b[0m\u001b[0;34m\u001b[0m\u001b[0m\n\u001b[1;32m     59\u001b[0m     tensors = pywrap_tfe.TFE_Py_Execute(ctx._handle, device_name, op_name,\n\u001b[0;32m---> 60\u001b[0;31m                                         inputs, attrs, num_outputs)\n\u001b[0m\u001b[1;32m     61\u001b[0m   \u001b[0;32mexcept\u001b[0m \u001b[0mcore\u001b[0m\u001b[0;34m.\u001b[0m\u001b[0m_NotOkStatusException\u001b[0m \u001b[0;32mas\u001b[0m \u001b[0me\u001b[0m\u001b[0;34m:\u001b[0m\u001b[0;34m\u001b[0m\u001b[0;34m\u001b[0m\u001b[0m\n\u001b[1;32m     62\u001b[0m     \u001b[0;32mif\u001b[0m \u001b[0mname\u001b[0m \u001b[0;32mis\u001b[0m \u001b[0;32mnot\u001b[0m \u001b[0;32mNone\u001b[0m\u001b[0;34m:\u001b[0m\u001b[0;34m\u001b[0m\u001b[0;34m\u001b[0m\u001b[0m\n",
      "\u001b[0;31mKeyboardInterrupt\u001b[0m: "
     ]
    }
   ],
   "source": [
    "training = model.fit(x=[np.array(train_encodings['input_ids']), np.array(train_encodings['token_type_ids']), np.array(train_encodings['attention_mask'])], y=train_labels, batch_size=256, \n",
    "                     epochs=100, shuffle=True, verbose=1) "
   ]
  },
  {
   "cell_type": "code",
   "execution_count": 219,
   "metadata": {},
   "outputs": [
    {
     "data": {
      "text/plain": [
       "49"
      ]
     },
     "execution_count": 219,
     "metadata": {},
     "output_type": "execute_result"
    }
   ],
   "source": [
    "## pre-trained bert\n",
    "nlp = transformers.TFBertModel.from_pretrained(\"bert-base-uncased\")\n",
    "bert_out, _ = nlp([idx, masks, segments])\n",
    "## fine-tuning\n",
    "x = layers.GlobalAveragePooling1D()(bert_out)\n",
    "x = layers.Dense(64, activation=\"relu\")(x)\n",
    "y_out = layers.Dense(len(np.unique(y_train)), \n",
    "                     activation='softmax')(x)\n",
    "## compile\n",
    "model = models.Model([idx, masks, segments], y_out)\n",
    "for layer in model.layers[:4]:\n",
    "    layer.trainable = False\n",
    "model.compile(loss='sparse_categorical_crossentropy', \n",
    "              optimizer='adam', metrics=['accuracy'])\n",
    "model.summary()"
   ]
  },
  {
   "cell_type": "code",
   "execution_count": 214,
   "metadata": {},
   "outputs": [
    {
     "data": {
      "text/plain": [
       "['[CLS]',\n",
       " 'bahia',\n",
       " 'cocoa',\n",
       " 'review',\n",
       " 'showers',\n",
       " 'continued',\n",
       " 'throughout',\n",
       " 'the',\n",
       " 'week',\n",
       " 'in',\n",
       " 'the',\n",
       " 'bahia',\n",
       " 'cocoa',\n",
       " 'zone',\n",
       " 'all',\n",
       " '##ev',\n",
       " '[SEP]',\n",
       " '',\n",
       " '[PAD]',\n",
       " '[PAD]',\n",
       " '[PAD]',\n",
       " '[PAD]',\n",
       " '[PAD]',\n",
       " '[PAD]',\n",
       " '[PAD]',\n",
       " '[PAD]',\n",
       " '[PAD]',\n",
       " '[PAD]',\n",
       " '[PAD]',\n",
       " '[PAD]',\n",
       " '[PAD]',\n",
       " '[PAD]',\n",
       " '[PAD]',\n",
       " '[PAD]',\n",
       " '[PAD]',\n",
       " '[PAD]',\n",
       " '[PAD]',\n",
       " '[PAD]',\n",
       " '[PAD]',\n",
       " '[PAD]',\n",
       " '[PAD]',\n",
       " '[PAD]',\n",
       " '[PAD]',\n",
       " '[PAD]',\n",
       " '[PAD]',\n",
       " '[PAD]',\n",
       " '[PAD]',\n",
       " '[PAD]',\n",
       " '[PAD]',\n",
       " '[PAD]']"
      ]
     },
     "execution_count": 214,
     "metadata": {},
     "output_type": "execute_result"
    }
   ],
   "source": [
    "seq.split(\" \")"
   ]
  },
  {
   "cell_type": "code",
   "execution_count": 206,
   "metadata": {},
   "outputs": [
    {
     "data": {
      "text/plain": [
       "['[CLS]',\n",
       " 'bahia',\n",
       " 'cocoa',\n",
       " 'review',\n",
       " 'showers',\n",
       " 'continued',\n",
       " 'throughout',\n",
       " 'the',\n",
       " 'week',\n",
       " 'in',\n",
       " 'the',\n",
       " 'bahia',\n",
       " 'cocoa',\n",
       " 'zone',\n",
       " 'all',\n",
       " '##ev',\n",
       " '[SEP]',\n",
       " '',\n",
       " '[PAD]',\n",
       " '[PAD]',\n",
       " '[PAD]',\n",
       " '[PAD]',\n",
       " '[PAD]',\n",
       " '[PAD]',\n",
       " '[PAD]',\n",
       " '[PAD]',\n",
       " '[PAD]',\n",
       " '[PAD]',\n",
       " '[PAD]',\n",
       " '[PAD]',\n",
       " '[PAD]',\n",
       " '[PAD]',\n",
       " '[PAD]',\n",
       " '[PAD]',\n",
       " '[PAD]',\n",
       " '[PAD]',\n",
       " '[PAD]',\n",
       " '[PAD]',\n",
       " '[PAD]',\n",
       " '[PAD]',\n",
       " '[PAD]',\n",
       " '[PAD]',\n",
       " '[PAD]',\n",
       " '[PAD]',\n",
       " '[PAD]',\n",
       " '[PAD]',\n",
       " '[PAD]',\n",
       " '[PAD]',\n",
       " '[PAD]',\n",
       " '[PAD]']"
      ]
     },
     "execution_count": 206,
     "metadata": {},
     "output_type": "execute_result"
    }
   ],
   "source": [
    "seq.split(\" \")"
   ]
  },
  {
   "cell_type": "code",
   "execution_count": null,
   "metadata": {},
   "outputs": [],
   "source": []
  }
 ],
 "metadata": {
  "kernelspec": {
   "display_name": "Python (nlp)",
   "language": "python",
   "name": "nlp"
  },
  "language_info": {
   "codemirror_mode": {
    "name": "ipython",
    "version": 3
   },
   "file_extension": ".py",
   "mimetype": "text/x-python",
   "name": "python",
   "nbconvert_exporter": "python",
   "pygments_lexer": "ipython3",
   "version": "3.7.9"
  }
 },
 "nbformat": 4,
 "nbformat_minor": 4
}
