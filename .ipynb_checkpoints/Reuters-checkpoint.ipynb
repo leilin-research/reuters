{
 "cells": [
  {
   "cell_type": "code",
   "execution_count": 41,
   "metadata": {},
   "outputs": [],
   "source": [
    "from nltk.corpus import reuters\n",
    "import nltk\n",
    "#nltk.download('reuters')\n",
    "import pandas as pd\n",
    "from nltk.stem import WordNetLemmatizer\n",
    "from nltk.stem.porter import PorterStemmer\n",
    "import numpy as np\n",
    "from sklearn.model_selection import train_test_split\n",
    "import matplotlib.pyplot as plt\n",
    "import warnings\n",
    "warnings.filterwarnings(\"ignore\")"
   ]
  },
  {
   "cell_type": "markdown",
   "metadata": {},
   "source": [
    "## Getting train and test dataset from nltk reuters corpus"
   ]
  },
  {
   "cell_type": "code",
   "execution_count": 42,
   "metadata": {},
   "outputs": [],
   "source": [
    "train_documents, train_categories = zip(*[(reuters.raw(i), reuters.categories(i)) for i in reuters.fileids() if i.startswith('training/')])\n",
    "test_documents, test_categories = zip(*[(reuters.raw(i), reuters.categories(i)) for i in reuters.fileids() if i.startswith('test/')])"
   ]
  },
  {
   "cell_type": "code",
   "execution_count": 43,
   "metadata": {},
   "outputs": [
    {
     "name": "stdout",
     "output_type": "stream",
     "text": [
      "Number of training documents: 7769\n",
      "Number of testing documents: 3019\n"
     ]
    }
   ],
   "source": [
    "print(\"Number of training documents:\", len(train_documents))\n",
    "print(\"Number of testing documents:\", len(test_documents))"
   ]
  },
  {
   "cell_type": "markdown",
   "metadata": {},
   "source": [
    "## Convert the categorical labels to Multi Label Encodings"
   ]
  },
  {
   "cell_type": "code",
   "execution_count": 44,
   "metadata": {},
   "outputs": [],
   "source": [
    "from sklearn.preprocessing import MultiLabelBinarizer\n",
    "\n",
    "mlb = MultiLabelBinarizer()\n",
    "train_labels = mlb.fit_transform(train_categories)\n",
    "test_labels = mlb.transform(test_categories)"
   ]
  },
  {
   "cell_type": "markdown",
   "metadata": {},
   "source": [
    "## Creating Dataframe for applying transformations"
   ]
  },
  {
   "cell_type": "code",
   "execution_count": 46,
   "metadata": {},
   "outputs": [],
   "source": [
    "trainData = {\"content\": train_documents}\n",
    "testData = {\"content\": test_documents}\n",
    "trainDf = pd.DataFrame(trainData, columns=[\"content\"])\n",
    "testDf = pd.DataFrame(testData, columns=[\"content\"])"
   ]
  },
  {
   "cell_type": "markdown",
   "metadata": {},
   "source": [
    "## Pre-process the input data"
   ]
  },
  {
   "cell_type": "code",
   "execution_count": 291,
   "metadata": {},
   "outputs": [],
   "source": [
    "wordnet_lemmatizer = WordNetLemmatizer()\n",
    "stemmer = PorterStemmer()\n",
    "stopwords = set(w.rstrip() for w in open(\"../../nltk_data/corpora/reuters/stopwords\"))\n",
    "\n",
    "def tokenize_lemma_stopwords(text):\n",
    "    text = text.replace(\"\\n\", \" \")\n",
    "    tokens = nltk.tokenize.word_tokenize(text.lower()) # split string into words (tokens)\n",
    "    tokens = [t for t in tokens if t.isalpha()] # keep strings with only alphabets\n",
    "    tokens = [wordnet_lemmatizer.lemmatize(t) for t in tokens] # put words into base form\n",
    "    tokens = [stemmer.stem(t) for t in tokens]\n",
    "    tokens = [t for t in tokens if len(t) > 2] # remove short words, they're probably not useful\n",
    "    tokens = [t for t in tokens if t not in stopwords] # remove stopwords\n",
    "    cleanedText = \" \".join(tokens)\n",
    "    return cleanedText\n",
    "\n",
    "def dataCleaning(df):\n",
    "    data = df.copy()\n",
    "    data[\"content\"] = data[\"content\"].apply(tokenize_lemma_stopwords)\n",
    "    return data"
   ]
  },
  {
   "cell_type": "code",
   "execution_count": 292,
   "metadata": {},
   "outputs": [],
   "source": [
    "cleanedTrainData = dataCleaning(trainDf)\n",
    "cleanedTestData = dataCleaning(testDf)"
   ]
  },
  {
   "cell_type": "markdown",
   "metadata": {},
   "source": [
    "# Create TF-IDF Vectorizer (Bag of Words)"
   ]
  },
  {
   "cell_type": "code",
   "execution_count": 293,
   "metadata": {},
   "outputs": [],
   "source": [
    "from sklearn.feature_extraction.text import TfidfVectorizer\n",
    "from sklearn import metrics\n",
    "\n",
    "vectorizer = TfidfVectorizer()\n",
    "vectorised_train_documents = vectorizer.fit_transform(cleanedTrainData[\"content\"])\n",
    "vectorised_test_documents = vectorizer.transform(cleanedTestData[\"content\"])"
   ]
  },
  {
   "cell_type": "markdown",
   "metadata": {},
   "source": [
    "## Train and Evaluate Classifiers"
   ]
  },
  {
   "cell_type": "code",
   "execution_count": 294,
   "metadata": {},
   "outputs": [],
   "source": [
    "from sklearn.metrics import accuracy_score, precision_score, recall_score, f1_score, confusion_matrix, hamming_loss\n",
    "\n",
    "ModelsPerformance = {}\n",
    "\n",
    "def metricsReport(modelName, test_labels, predictions):\n",
    "    accuracy = accuracy_score(test_labels, predictions)\n",
    "\n",
    "    macro_precision = precision_score(test_labels, predictions, average='macro')\n",
    "    macro_recall = recall_score(test_labels, predictions, average='macro')\n",
    "    macro_f1 = f1_score(test_labels, predictions, average='macro')\n",
    "\n",
    "    micro_precision = precision_score(test_labels, predictions, average='micro')\n",
    "    micro_recall = recall_score(test_labels, predictions, average='micro')\n",
    "    micro_f1 = f1_score(test_labels, predictions, average='micro')\n",
    "    hamLoss = hamming_loss(test_labels, predictions)\n",
    "    print(\"------\" + modelName + \" Model Metrics-----\")\n",
    "    print(\"Accuracy: {:.4f}\\nHamming Loss: {:.4f}\\nPrecision:\\n  - Macro: {:.4f}\\n  - Micro: {:.4f}\\nRecall:\\n  - Macro: {:.4f}\\n  - Micro: {:.4f}\\nF1-measure:\\n  - Macro: {:.4f}\\n  - Micro: {:.4f}\"\\\n",
    "          .format(accuracy, hamLoss, macro_precision, micro_precision, macro_recall, micro_recall, macro_f1, micro_f1))\n",
    "    ModelsPerformance[modelName] = micro_f1"
   ]
  },
  {
   "cell_type": "code",
   "execution_count": 295,
   "metadata": {},
   "outputs": [
    {
     "name": "stdout",
     "output_type": "stream",
     "text": [
      "------SVC Sq. Hinge Loss Model Metrics-----\n",
      "Accuracy: 0.8115\n",
      "Hamming Loss: 0.0034\n",
      "Precision:\n",
      "  - Macro: 0.6485\n",
      "  - Micro: 0.9445\n",
      "Recall:\n",
      "  - Macro: 0.3961\n",
      "  - Micro: 0.8007\n",
      "F1-measure:\n",
      "  - Macro: 0.4680\n",
      "  - Micro: 0.8667\n"
     ]
    }
   ],
   "source": [
    "from sklearn.svm import LinearSVC\n",
    "from sklearn.multiclass import OneVsRestClassifier\n",
    "\n",
    "svmClassifier = OneVsRestClassifier(LinearSVC(), n_jobs=-1)\n",
    "svmClassifier.fit(vectorised_train_documents, train_labels)\n",
    "\n",
    "svmPreds = svmClassifier.predict(vectorised_test_documents)\n",
    "metricsReport(\"SVC Sq. Hinge Loss\", test_labels, svmPreds)"
   ]
  },
  {
   "cell_type": "code",
   "execution_count": 296,
   "metadata": {},
   "outputs": [
    {
     "name": "stdout",
     "output_type": "stream",
     "text": [
      "\n",
      "Classification Report\n",
      "\n",
      "              precision    recall  f1-score   support\n",
      "\n",
      "           0       0.98      0.96      0.97       719\n",
      "           1       1.00      0.48      0.65        23\n",
      "           2       1.00      0.64      0.78        14\n",
      "           3       0.87      0.67      0.75        30\n",
      "           4       0.88      0.39      0.54        18\n",
      "           5       0.00      0.00      0.00         1\n",
      "           6       1.00      0.94      0.97        18\n",
      "           7       1.00      0.50      0.67         2\n",
      "           8       0.00      0.00      0.00         3\n",
      "           9       0.96      0.96      0.96        28\n",
      "          10       1.00      0.78      0.88        18\n",
      "          11       0.00      0.00      0.00         1\n",
      "          12       0.96      0.79      0.86        56\n",
      "          13       1.00      0.55      0.71        20\n",
      "          14       0.00      0.00      0.00         2\n",
      "          15       0.93      0.46      0.62        28\n",
      "          16       0.00      0.00      0.00         1\n",
      "          17       0.89      0.85      0.87       189\n",
      "          18       0.00      0.00      0.00         1\n",
      "          19       0.84      0.70      0.77        44\n",
      "          20       0.00      0.00      0.00         4\n",
      "          21       0.99      0.98      0.98      1087\n",
      "          22       1.00      0.20      0.33        10\n",
      "          23       1.00      0.47      0.64        17\n",
      "          24       0.97      0.80      0.88        35\n",
      "          25       0.93      0.83      0.88        30\n",
      "          26       0.98      0.84      0.90       149\n",
      "          27       0.00      0.00      0.00         4\n",
      "          28       0.00      0.00      0.00         1\n",
      "          29       1.00      0.60      0.75         5\n",
      "          30       1.00      0.50      0.67         6\n",
      "          31       1.00      0.50      0.67         4\n",
      "          32       1.00      0.43      0.60         7\n",
      "          33       0.00      0.00      0.00         1\n",
      "          34       0.90      0.70      0.79       131\n",
      "          35       1.00      0.92      0.96        12\n",
      "          36       0.71      0.71      0.71        14\n",
      "          37       0.00      0.00      0.00         1\n",
      "          38       1.00      0.57      0.73        21\n",
      "          39       0.00      0.00      0.00         2\n",
      "          40       0.00      0.00      0.00        14\n",
      "          41       1.00      1.00      1.00         3\n",
      "          42       0.00      0.00      0.00         1\n",
      "          43       0.71      0.42      0.53        24\n",
      "          44       1.00      0.17      0.29         6\n",
      "          45       1.00      0.42      0.59        19\n",
      "          46       0.81      0.75      0.78       179\n",
      "          47       0.89      0.74      0.81        34\n",
      "          48       0.00      0.00      0.00         4\n",
      "          49       0.67      0.33      0.44        30\n",
      "          50       1.00      1.00      1.00         1\n",
      "          51       0.00      0.00      0.00         2\n",
      "          52       0.00      0.00      0.00         2\n",
      "          53       1.00      0.17      0.29         6\n",
      "          54       0.73      0.57      0.64        47\n",
      "          55       1.00      0.82      0.90        11\n",
      "          56       0.00      0.00      0.00         1\n",
      "          57       1.00      0.60      0.75        10\n",
      "          58       0.00      0.00      0.00         1\n",
      "          59       1.00      0.08      0.15        12\n",
      "          60       1.00      0.14      0.25         7\n",
      "          61       1.00      0.33      0.50         3\n",
      "          62       0.00      0.00      0.00         3\n",
      "          63       0.00      0.00      0.00         1\n",
      "          64       0.00      0.00      0.00         3\n",
      "          65       1.00      0.44      0.62         9\n",
      "          66       0.80      0.67      0.73        18\n",
      "          67       1.00      0.50      0.67         2\n",
      "          68       0.89      0.33      0.48        24\n",
      "          69       1.00      0.75      0.86        12\n",
      "          70       0.00      0.00      0.00         1\n",
      "          71       0.92      0.67      0.78        89\n",
      "          72       1.00      0.12      0.22         8\n",
      "          73       0.80      0.40      0.53        10\n",
      "          74       1.00      0.23      0.38        13\n",
      "          75       0.00      0.00      0.00        11\n",
      "          76       0.73      0.48      0.58        33\n",
      "          77       0.00      0.00      0.00        11\n",
      "          78       0.96      0.75      0.84        36\n",
      "          79       0.00      0.00      0.00         1\n",
      "          80       0.00      0.00      0.00         2\n",
      "          81       1.00      0.20      0.33         5\n",
      "          82       1.00      0.25      0.40         4\n",
      "          83       1.00      0.75      0.86        12\n",
      "          84       0.82      0.72      0.77       117\n",
      "          85       0.94      0.41      0.57        37\n",
      "          86       0.91      0.73      0.81        71\n",
      "          87       1.00      0.50      0.67        10\n",
      "          88       0.00      0.00      0.00        14\n",
      "          89       1.00      0.46      0.63        13\n",
      "\n",
      "   micro avg       0.94      0.80      0.87      3744\n",
      "   macro avg       0.65      0.40      0.47      3744\n",
      "weighted avg       0.92      0.80      0.84      3744\n",
      " samples avg       0.88      0.87      0.87      3744\n",
      "\n"
     ]
    }
   ],
   "source": [
    "from sklearn.metrics import classification_report\n",
    "print('\\nClassification Report\\n')\n",
    "print(classification_report(test_labels, svmPreds))"
   ]
  },
  {
   "cell_type": "markdown",
   "metadata": {},
   "source": [
    "# Word2Vec"
   ]
  },
  {
   "cell_type": "code",
   "execution_count": 297,
   "metadata": {},
   "outputs": [],
   "source": [
    "## for word embedding\n",
    "import gensim\n",
    "import gensim.downloader as gensim_api\n",
    "nlp = gensim_api.load(\"word2vec-google-news-300\")"
   ]
  },
  {
   "cell_type": "code",
   "execution_count": 298,
   "metadata": {},
   "outputs": [],
   "source": [
    "# from https://github.com/giannisnik/mpad/blob/master/mpad/utils.py\n",
    "def load_embeddings(model, vocab):\n",
    "    word_vecs = np.zeros((len(vocab)+1, 300))\n",
    "    unknown_words = set()\n",
    "    #model = KeyedVectors.load_word2vec_format(fname, binary=True)\n",
    "    for word in vocab:\n",
    "        if word in model:\n",
    "            word_vecs[vocab[word],:] = model[word]\n",
    "        else:\n",
    "            unknown_words.add(word)\n",
    "            word_vecs[vocab[word],:] = np.random.uniform(-0.25, 0.25, 300)\n",
    "    print(\"Existing vectors:\", len(vocab)-len(unknown_words))\n",
    "    return word_vecs\n",
    "\n",
    "def get_vocab(docs):\n",
    "    vocab = dict()\n",
    "    \n",
    "    for index, row in docs.iterrows():\n",
    "        doc = row['content'].split()\n",
    "        \n",
    "        for word in doc:\n",
    "            if word not in vocab:\n",
    "                vocab[word] = len(vocab)+1\n",
    "\n",
    "    print(\"Vocabulary size: \", len(vocab))\n",
    "        \n",
    "    return vocab"
   ]
  },
  {
   "cell_type": "code",
   "execution_count": 299,
   "metadata": {},
   "outputs": [
    {
     "name": "stdout",
     "output_type": "stream",
     "text": [
      "Vocabulary size:  19906\n",
      "Existing vectors: 7940\n"
     ]
    }
   ],
   "source": [
    "vocab = get_vocab(pd.concat([cleanedTrainData, cleanedTestData]))\n",
    "embeddings = load_embeddings(nlp, vocab)"
   ]
  },
  {
   "cell_type": "code",
   "execution_count": 300,
   "metadata": {},
   "outputs": [
    {
     "data": {
      "text/plain": [
       "(19907, 300)"
      ]
     },
     "execution_count": 300,
     "metadata": {},
     "output_type": "execute_result"
    }
   ],
   "source": [
    "embeddings.shape"
   ]
  },
  {
   "cell_type": "code",
   "execution_count": 301,
   "metadata": {},
   "outputs": [],
   "source": [
    "## for deep learning\n",
    "from tensorflow.keras import models, layers, preprocessing as kprocessing\n",
    "from tensorflow.keras import backend as K"
   ]
  },
  {
   "cell_type": "code",
   "execution_count": 302,
   "metadata": {},
   "outputs": [],
   "source": [
    "def text2seq(docs, vocab, maxlen):\n",
    "    res = []\n",
    "    for index, row in docs.iterrows():\n",
    "        doc = row['content'].split()\n",
    "        tmp = []\n",
    "        if len(doc) > maxlen:\n",
    "            for i in range(maxlen): # for each doc, keep maxlen words\n",
    "                tmp.append(vocab[doc[i]])\n",
    "        else:\n",
    "            for i in range(len(doc)):\n",
    "                tmp.append(vocab[doc[i]])\n",
    "            for i in range(maxlen - len(doc)):\n",
    "                tmp.append(0)\n",
    "        res.append(tmp)\n",
    "        \n",
    "    return np.array(res)\n"
   ]
  },
  {
   "cell_type": "code",
   "execution_count": 303,
   "metadata": {
    "scrolled": true
   },
   "outputs": [],
   "source": [
    "maxlen = 500 # how many words to check at each document\n",
    "X_train = text2seq(cleanedTrainData, vocab, maxlen)\n",
    "X_test = text2seq(cleanedTestData, vocab, maxlen)\n",
    "\n",
    "# ## encode y\n",
    "# dic_y_mapping = {n:label for n,label in \n",
    "#                  enumerate(np.unique(train_labels))}\n",
    "# inverse_dic = {v:k for k,v in dic_y_mapping.items()}\n",
    "# y_train = np.array([inverse_dic[y] for y in y_train])\n"
   ]
  },
  {
   "cell_type": "code",
   "execution_count": 304,
   "metadata": {},
   "outputs": [
    {
     "name": "stdout",
     "output_type": "stream",
     "text": [
      "Model: \"model_11\"\n",
      "_________________________________________________________________\n",
      "Layer (type)                 Output Shape              Param #   \n",
      "=================================================================\n",
      "input_9 (InputLayer)         [(None, 60)]              0         \n",
      "_________________________________________________________________\n",
      "embedding_8 (Embedding)      (None, 60, 300)           5972100   \n",
      "_________________________________________________________________\n",
      "bidirectional_16 (Bidirectio (None, 60, 120)           173280    \n",
      "_________________________________________________________________\n",
      "bidirectional_17 (Bidirectio (None, 120)               86880     \n",
      "_________________________________________________________________\n",
      "dense_26 (Dense)             (None, 64)                7744      \n",
      "_________________________________________________________________\n",
      "dense_27 (Dense)             (None, 90)                5850      \n",
      "=================================================================\n",
      "Total params: 6,245,854\n",
      "Trainable params: 273,754\n",
      "Non-trainable params: 5,972,100\n",
      "_________________________________________________________________\n"
     ]
    }
   ],
   "source": [
    "## code attention layer\n",
    "def attention_layer(inputs, neurons):\n",
    "    x = layers.Permute((2,1))(inputs)\n",
    "    x = layers.Dense(neurons, activation=\"softmax\")(x)\n",
    "    x = layers.Permute((2,1), name=\"attention\")(x)\n",
    "    x = layers.multiply([inputs, x])\n",
    "    return x\n",
    "\n",
    "## input\n",
    "x_in = layers.Input(shape=(maxlen,))\n",
    "## embedding\n",
    "x = layers.Embedding(input_dim=embeddings.shape[0],  \n",
    "                     output_dim=embeddings.shape[1], \n",
    "                     weights=[embeddings],\n",
    "                     input_length=maxlen, trainable=False)(x_in)\n",
    "## apply attention\n",
    "#x = attention_layer(x, neurons=15)\n",
    "## 2 layers of bidirectional lstm\n",
    "x = layers.Bidirectional(layers.LSTM(units=maxlen, dropout=0.2, \n",
    "                         return_sequences=True))(x) #  return_sequences=True return the whole sequence from LSTM cells\n",
    "x = layers.Bidirectional(layers.LSTM(units=maxlen, dropout=0.2))(x)\n",
    "## final dense layers\n",
    "x = layers.Dense(64, activation='relu')(x)\n",
    "y_out = layers.Dense(90, activation='sigmoid')(x) # 90 possible categories # multi-label classification, use sigmoid\n",
    "## compile\n",
    "model = models.Model(x_in, y_out)\n",
    "model.compile(loss='binary_crossentropy',\n",
    "              optimizer='adam', metrics=['accuracy'])\n",
    "\n",
    "model.summary()"
   ]
  },
  {
   "cell_type": "code",
   "execution_count": 305,
   "metadata": {},
   "outputs": [
    {
     "name": "stdout",
     "output_type": "stream",
     "text": [
      "Epoch 1/100\n",
      "31/31 [==============================] - 12s 263ms/step - loss: 0.5649 - accuracy: 0.0034 - val_loss: 0.0856 - val_accuracy: 0.3571\n",
      "Epoch 2/100\n",
      "31/31 [==============================] - 8s 244ms/step - loss: 0.0653 - accuracy: 0.3749 - val_loss: 0.0523 - val_accuracy: 0.3587\n",
      "Epoch 3/100\n",
      "31/31 [==============================] - 7s 230ms/step - loss: 0.0501 - accuracy: 0.3723 - val_loss: 0.0507 - val_accuracy: 0.3587\n",
      "Epoch 4/100\n",
      "31/31 [==============================] - 7s 236ms/step - loss: 0.0489 - accuracy: 0.3688 - val_loss: 0.0503 - val_accuracy: 0.3587\n",
      "Epoch 5/100\n",
      "31/31 [==============================] - 9s 282ms/step - loss: 0.0495 - accuracy: 0.3705 - val_loss: 0.0502 - val_accuracy: 0.3587\n",
      "Epoch 6/100\n",
      "31/31 [==============================] - 9s 278ms/step - loss: 0.0491 - accuracy: 0.3686 - val_loss: 0.0502 - val_accuracy: 0.3587\n",
      "Epoch 7/100\n",
      "31/31 [==============================] - 9s 278ms/step - loss: 0.0491 - accuracy: 0.3647 - val_loss: 0.0498 - val_accuracy: 0.3587\n",
      "Epoch 8/100\n",
      "31/31 [==============================] - 8s 250ms/step - loss: 0.0490 - accuracy: 0.3634 - val_loss: 0.0471 - val_accuracy: 0.5141\n",
      "Epoch 9/100\n",
      "31/31 [==============================] - 8s 257ms/step - loss: 0.0453 - accuracy: 0.5063 - val_loss: 0.0453 - val_accuracy: 0.4657\n",
      "Epoch 10/100\n",
      "31/31 [==============================] - 9s 308ms/step - loss: 0.0434 - accuracy: 0.5027 - val_loss: 0.0423 - val_accuracy: 0.5499\n",
      "Epoch 11/100\n",
      "31/31 [==============================] - 9s 278ms/step - loss: 0.0407 - accuracy: 0.5534 - val_loss: 0.0407 - val_accuracy: 0.5704\n",
      "Epoch 12/100\n",
      "31/31 [==============================] - 8s 272ms/step - loss: 0.0396 - accuracy: 0.5614 - val_loss: 0.0394 - val_accuracy: 0.5823\n",
      "Epoch 13/100\n",
      "31/31 [==============================] - 8s 265ms/step - loss: 0.0388 - accuracy: 0.5588 - val_loss: 0.0393 - val_accuracy: 0.5790\n",
      "Epoch 14/100\n",
      "31/31 [==============================] - 8s 251ms/step - loss: 0.0390 - accuracy: 0.5525 - val_loss: 0.0379 - val_accuracy: 0.5807\n",
      "Epoch 15/100\n",
      "31/31 [==============================] - 8s 256ms/step - loss: 0.0368 - accuracy: 0.5687 - val_loss: 0.0394 - val_accuracy: 0.5866\n",
      "Epoch 16/100\n",
      "31/31 [==============================] - 7s 242ms/step - loss: 0.0383 - accuracy: 0.5592 - val_loss: 0.0359 - val_accuracy: 0.6158\n",
      "Epoch 17/100\n",
      "31/31 [==============================] - 8s 244ms/step - loss: 0.0355 - accuracy: 0.5998 - val_loss: 0.0345 - val_accuracy: 0.6293\n",
      "Epoch 18/100\n",
      "31/31 [==============================] - 8s 246ms/step - loss: 0.0330 - accuracy: 0.6221 - val_loss: 0.0330 - val_accuracy: 0.6346\n",
      "Epoch 19/100\n",
      "31/31 [==============================] - 8s 248ms/step - loss: 0.0322 - accuracy: 0.6162 - val_loss: 0.0318 - val_accuracy: 0.6274\n",
      "Epoch 20/100\n",
      "31/31 [==============================] - 8s 257ms/step - loss: 0.0312 - accuracy: 0.6201 - val_loss: 0.0312 - val_accuracy: 0.6280\n",
      "Epoch 21/100\n",
      "31/31 [==============================] - 8s 247ms/step - loss: 0.0306 - accuracy: 0.6218 - val_loss: 0.0303 - val_accuracy: 0.6300\n",
      "Epoch 22/100\n",
      "31/31 [==============================] - 7s 233ms/step - loss: 0.0296 - accuracy: 0.6209 - val_loss: 0.0298 - val_accuracy: 0.6496\n",
      "Epoch 23/100\n",
      "31/31 [==============================] - 7s 233ms/step - loss: 0.0286 - accuracy: 0.6331 - val_loss: 0.0299 - val_accuracy: 0.6366\n",
      "Epoch 24/100\n",
      "31/31 [==============================] - 7s 241ms/step - loss: 0.0281 - accuracy: 0.6395 - val_loss: 0.0283 - val_accuracy: 0.6578\n",
      "Epoch 25/100\n",
      "31/31 [==============================] - 9s 285ms/step - loss: 0.0274 - accuracy: 0.6418 - val_loss: 0.0279 - val_accuracy: 0.6486\n",
      "Epoch 26/100\n",
      "31/31 [==============================] - 8s 251ms/step - loss: 0.0267 - accuracy: 0.6467 - val_loss: 0.0273 - val_accuracy: 0.6790\n",
      "Epoch 27/100\n",
      "31/31 [==============================] - 8s 263ms/step - loss: 0.0263 - accuracy: 0.6617 - val_loss: 0.0268 - val_accuracy: 0.6747\n",
      "Epoch 28/100\n",
      "31/31 [==============================] - 8s 261ms/step - loss: 0.0259 - accuracy: 0.6538 - val_loss: 0.0266 - val_accuracy: 0.6876\n",
      "Epoch 29/100\n",
      "31/31 [==============================] - 9s 287ms/step - loss: 0.0252 - accuracy: 0.6672 - val_loss: 0.0259 - val_accuracy: 0.7026\n",
      "Epoch 30/100\n",
      "31/31 [==============================] - 8s 253ms/step - loss: 0.0250 - accuracy: 0.6697 - val_loss: 0.0258 - val_accuracy: 0.6966\n",
      "Epoch 31/100\n",
      "31/31 [==============================] - 7s 230ms/step - loss: 0.0242 - accuracy: 0.6851 - val_loss: 0.0259 - val_accuracy: 0.7026\n",
      "Epoch 32/100\n",
      "31/31 [==============================] - 7s 231ms/step - loss: 0.0236 - accuracy: 0.6851 - val_loss: 0.0250 - val_accuracy: 0.7055\n",
      "Epoch 33/100\n",
      "31/31 [==============================] - 7s 231ms/step - loss: 0.0231 - accuracy: 0.6941 - val_loss: 0.0251 - val_accuracy: 0.7069\n",
      "Epoch 34/100\n",
      "31/31 [==============================] - 7s 231ms/step - loss: 0.0230 - accuracy: 0.6892 - val_loss: 0.0243 - val_accuracy: 0.7254\n",
      "Epoch 35/100\n",
      "31/31 [==============================] - 7s 231ms/step - loss: 0.0228 - accuracy: 0.6986 - val_loss: 0.0235 - val_accuracy: 0.7304\n",
      "Epoch 36/100\n",
      "31/31 [==============================] - 7s 230ms/step - loss: 0.0210 - accuracy: 0.7281 - val_loss: 0.0232 - val_accuracy: 0.7257\n",
      "Epoch 37/100\n",
      "31/31 [==============================] - 7s 229ms/step - loss: 0.0211 - accuracy: 0.7257 - val_loss: 0.0226 - val_accuracy: 0.7363\n",
      "Epoch 38/100\n",
      "31/31 [==============================] - 7s 229ms/step - loss: 0.0207 - accuracy: 0.7232 - val_loss: 0.0222 - val_accuracy: 0.7403\n",
      "Epoch 39/100\n",
      "31/31 [==============================] - 7s 230ms/step - loss: 0.0200 - accuracy: 0.7350 - val_loss: 0.0215 - val_accuracy: 0.7486\n",
      "Epoch 40/100\n",
      "31/31 [==============================] - 7s 230ms/step - loss: 0.0187 - accuracy: 0.7533 - val_loss: 0.0214 - val_accuracy: 0.7396\n",
      "Epoch 41/100\n",
      "31/31 [==============================] - 7s 234ms/step - loss: 0.0182 - accuracy: 0.7613 - val_loss: 0.0210 - val_accuracy: 0.7516\n",
      "Epoch 42/100\n",
      "31/31 [==============================] - 7s 230ms/step - loss: 0.0182 - accuracy: 0.7672 - val_loss: 0.0210 - val_accuracy: 0.7449\n",
      "Epoch 43/100\n",
      "31/31 [==============================] - 7s 229ms/step - loss: 0.0178 - accuracy: 0.7693 - val_loss: 0.0204 - val_accuracy: 0.7615\n",
      "Epoch 44/100\n",
      "31/31 [==============================] - 7s 229ms/step - loss: 0.0166 - accuracy: 0.7779 - val_loss: 0.0200 - val_accuracy: 0.7569\n",
      "Epoch 45/100\n",
      "31/31 [==============================] - 7s 229ms/step - loss: 0.0165 - accuracy: 0.7782 - val_loss: 0.0200 - val_accuracy: 0.7671\n",
      "Epoch 46/100\n",
      "31/31 [==============================] - 7s 230ms/step - loss: 0.0164 - accuracy: 0.7837 - val_loss: 0.0193 - val_accuracy: 0.7734\n",
      "Epoch 47/100\n",
      "31/31 [==============================] - 7s 230ms/step - loss: 0.0156 - accuracy: 0.7965 - val_loss: 0.0191 - val_accuracy: 0.7728\n",
      "Epoch 48/100\n",
      "31/31 [==============================] - 7s 230ms/step - loss: 0.0148 - accuracy: 0.8012 - val_loss: 0.0193 - val_accuracy: 0.7688\n",
      "Epoch 49/100\n",
      "31/31 [==============================] - 7s 230ms/step - loss: 0.0140 - accuracy: 0.8029 - val_loss: 0.0186 - val_accuracy: 0.7731\n",
      "Epoch 50/100\n",
      "31/31 [==============================] - 7s 230ms/step - loss: 0.0141 - accuracy: 0.8088 - val_loss: 0.0187 - val_accuracy: 0.7718\n",
      "Epoch 51/100\n",
      "31/31 [==============================] - 7s 229ms/step - loss: 0.0134 - accuracy: 0.8080 - val_loss: 0.0187 - val_accuracy: 0.7708\n",
      "Epoch 52/100\n",
      "31/31 [==============================] - 7s 234ms/step - loss: 0.0131 - accuracy: 0.8030 - val_loss: 0.0185 - val_accuracy: 0.7754\n",
      "Epoch 53/100\n",
      "31/31 [==============================] - 7s 232ms/step - loss: 0.0128 - accuracy: 0.8131 - val_loss: 0.0184 - val_accuracy: 0.7797\n",
      "Epoch 54/100\n",
      "31/31 [==============================] - 7s 230ms/step - loss: 0.0126 - accuracy: 0.8127 - val_loss: 0.0179 - val_accuracy: 0.7830\n",
      "Epoch 55/100\n",
      "31/31 [==============================] - 7s 229ms/step - loss: 0.0125 - accuracy: 0.8158 - val_loss: 0.0178 - val_accuracy: 0.7811\n",
      "Epoch 56/100\n",
      "31/31 [==============================] - 7s 229ms/step - loss: 0.0122 - accuracy: 0.8154 - val_loss: 0.0177 - val_accuracy: 0.7827\n",
      "Epoch 57/100\n",
      "31/31 [==============================] - 7s 230ms/step - loss: 0.0120 - accuracy: 0.8154 - val_loss: 0.0175 - val_accuracy: 0.7864\n"
     ]
    },
    {
     "name": "stdout",
     "output_type": "stream",
     "text": [
      "Epoch 58/100\n",
      "31/31 [==============================] - 7s 233ms/step - loss: 0.0111 - accuracy: 0.8255 - val_loss: 0.0178 - val_accuracy: 0.7936\n",
      "Epoch 59/100\n",
      "31/31 [==============================] - 7s 234ms/step - loss: 0.0111 - accuracy: 0.8296 - val_loss: 0.0177 - val_accuracy: 0.7860\n",
      "Epoch 60/100\n",
      "31/31 [==============================] - 7s 235ms/step - loss: 0.0117 - accuracy: 0.8227 - val_loss: 0.0189 - val_accuracy: 0.7890\n",
      "Epoch 61/100\n",
      "31/31 [==============================] - 7s 232ms/step - loss: 0.0110 - accuracy: 0.8266 - val_loss: 0.0174 - val_accuracy: 0.8013\n",
      "Epoch 62/100\n",
      "31/31 [==============================] - 7s 229ms/step - loss: 0.0110 - accuracy: 0.8369 - val_loss: 0.0172 - val_accuracy: 0.7936\n",
      "Epoch 63/100\n",
      "31/31 [==============================] - 7s 239ms/step - loss: 0.0101 - accuracy: 0.8373 - val_loss: 0.0169 - val_accuracy: 0.8006\n",
      "Epoch 64/100\n",
      "31/31 [==============================] - 7s 230ms/step - loss: 0.0103 - accuracy: 0.8356 - val_loss: 0.0168 - val_accuracy: 0.7983\n",
      "Epoch 65/100\n",
      "31/31 [==============================] - 7s 229ms/step - loss: 0.0092 - accuracy: 0.8441 - val_loss: 0.0170 - val_accuracy: 0.8085\n",
      "Epoch 66/100\n",
      "31/31 [==============================] - 7s 229ms/step - loss: 0.0095 - accuracy: 0.8423 - val_loss: 0.0168 - val_accuracy: 0.8032\n",
      "Epoch 67/100\n",
      "31/31 [==============================] - 7s 230ms/step - loss: 0.0095 - accuracy: 0.8422 - val_loss: 0.0170 - val_accuracy: 0.7999\n",
      "Epoch 68/100\n",
      "31/31 [==============================] - 7s 229ms/step - loss: 0.0090 - accuracy: 0.8522 - val_loss: 0.0170 - val_accuracy: 0.8013\n",
      "Epoch 69/100\n",
      "31/31 [==============================] - 7s 229ms/step - loss: 0.0091 - accuracy: 0.8473 - val_loss: 0.0179 - val_accuracy: 0.8026\n",
      "Epoch 70/100\n",
      "31/31 [==============================] - 7s 229ms/step - loss: 0.0089 - accuracy: 0.8510 - val_loss: 0.0178 - val_accuracy: 0.8023\n",
      "Epoch 71/100\n",
      "31/31 [==============================] - 7s 229ms/step - loss: 0.0090 - accuracy: 0.8447 - val_loss: 0.0169 - val_accuracy: 0.8092\n",
      "Epoch 72/100\n",
      "31/31 [==============================] - 7s 229ms/step - loss: 0.0084 - accuracy: 0.8528 - val_loss: 0.0173 - val_accuracy: 0.8076\n",
      "Epoch 73/100\n",
      "31/31 [==============================] - 7s 228ms/step - loss: 0.0080 - accuracy: 0.8578 - val_loss: 0.0175 - val_accuracy: 0.8066\n",
      "Epoch 74/100\n",
      "31/31 [==============================] - 7s 234ms/step - loss: 0.0084 - accuracy: 0.8511 - val_loss: 0.0178 - val_accuracy: 0.8095\n",
      "Epoch 75/100\n",
      "31/31 [==============================] - 7s 236ms/step - loss: 0.0081 - accuracy: 0.8585 - val_loss: 0.0174 - val_accuracy: 0.8059\n",
      "Epoch 76/100\n",
      "31/31 [==============================] - 7s 230ms/step - loss: 0.0078 - accuracy: 0.8565 - val_loss: 0.0172 - val_accuracy: 0.8135\n",
      "Epoch 77/100\n",
      "31/31 [==============================] - 7s 230ms/step - loss: 0.0077 - accuracy: 0.8615 - val_loss: 0.0179 - val_accuracy: 0.8032\n",
      "Epoch 78/100\n",
      "31/31 [==============================] - 7s 229ms/step - loss: 0.0078 - accuracy: 0.8621 - val_loss: 0.0177 - val_accuracy: 0.8029\n",
      "Epoch 79/100\n",
      "31/31 [==============================] - 7s 229ms/step - loss: 0.0076 - accuracy: 0.8589 - val_loss: 0.0179 - val_accuracy: 0.8059\n",
      "Epoch 80/100\n",
      "31/31 [==============================] - 7s 229ms/step - loss: 0.0073 - accuracy: 0.8619 - val_loss: 0.0175 - val_accuracy: 0.8115\n",
      "Epoch 81/100\n",
      "31/31 [==============================] - 8s 246ms/step - loss: 0.0071 - accuracy: 0.8654 - val_loss: 0.0177 - val_accuracy: 0.8135\n",
      "Epoch 82/100\n",
      "31/31 [==============================] - 8s 249ms/step - loss: 0.0072 - accuracy: 0.8646 - val_loss: 0.0179 - val_accuracy: 0.8142\n",
      "Epoch 83/100\n",
      "31/31 [==============================] - 8s 248ms/step - loss: 0.0065 - accuracy: 0.8640 - val_loss: 0.0179 - val_accuracy: 0.8138\n",
      "Epoch 84/100\n",
      "31/31 [==============================] - 8s 270ms/step - loss: 0.0065 - accuracy: 0.8743 - val_loss: 0.0180 - val_accuracy: 0.8162\n",
      "Epoch 85/100\n",
      "31/31 [==============================] - 8s 259ms/step - loss: 0.0063 - accuracy: 0.8729 - val_loss: 0.0179 - val_accuracy: 0.8162\n",
      "Epoch 86/100\n",
      "31/31 [==============================] - 8s 260ms/step - loss: 0.0066 - accuracy: 0.8699 - val_loss: 0.0191 - val_accuracy: 0.8066\n",
      "Epoch 87/100\n",
      "31/31 [==============================] - 8s 261ms/step - loss: 0.0063 - accuracy: 0.8756 - val_loss: 0.0180 - val_accuracy: 0.8165\n",
      "Epoch 88/100\n",
      "31/31 [==============================] - 8s 260ms/step - loss: 0.0059 - accuracy: 0.8736 - val_loss: 0.0179 - val_accuracy: 0.8105\n",
      "Epoch 89/100\n",
      "31/31 [==============================] - 8s 264ms/step - loss: 0.0059 - accuracy: 0.8741 - val_loss: 0.0182 - val_accuracy: 0.8138\n",
      "Epoch 90/100\n",
      "31/31 [==============================] - 8s 267ms/step - loss: 0.0057 - accuracy: 0.8778 - val_loss: 0.0182 - val_accuracy: 0.8145\n",
      "Epoch 91/100\n",
      "31/31 [==============================] - 8s 263ms/step - loss: 0.0057 - accuracy: 0.8790 - val_loss: 0.0184 - val_accuracy: 0.8165\n",
      "Epoch 92/100\n",
      "31/31 [==============================] - 8s 266ms/step - loss: 0.0056 - accuracy: 0.8839 - val_loss: 0.0184 - val_accuracy: 0.8178\n",
      "Epoch 93/100\n",
      "31/31 [==============================] - 8s 265ms/step - loss: 0.0055 - accuracy: 0.8787 - val_loss: 0.0180 - val_accuracy: 0.8152\n",
      "Epoch 94/100\n",
      "31/31 [==============================] - 8s 265ms/step - loss: 0.0053 - accuracy: 0.8852 - val_loss: 0.0185 - val_accuracy: 0.8175\n",
      "Epoch 95/100\n",
      "31/31 [==============================] - 8s 265ms/step - loss: 0.0053 - accuracy: 0.8826 - val_loss: 0.0183 - val_accuracy: 0.8225\n",
      "Epoch 96/100\n",
      "31/31 [==============================] - 8s 264ms/step - loss: 0.0050 - accuracy: 0.8898 - val_loss: 0.0190 - val_accuracy: 0.8138\n",
      "Epoch 97/100\n",
      "31/31 [==============================] - 8s 264ms/step - loss: 0.0051 - accuracy: 0.8829 - val_loss: 0.0187 - val_accuracy: 0.8198\n",
      "Epoch 98/100\n",
      "31/31 [==============================] - 8s 266ms/step - loss: 0.0049 - accuracy: 0.8817 - val_loss: 0.0186 - val_accuracy: 0.8238\n",
      "Epoch 99/100\n",
      "31/31 [==============================] - 8s 267ms/step - loss: 0.0047 - accuracy: 0.8871 - val_loss: 0.0196 - val_accuracy: 0.8225\n",
      "Epoch 100/100\n",
      "31/31 [==============================] - 8s 263ms/step - loss: 0.0056 - accuracy: 0.8818 - val_loss: 0.0192 - val_accuracy: 0.8198\n"
     ]
    },
    {
     "data": {
      "image/png": "[encoded data removed]",
      "text/plain": [
       "<Figure size 432x288 with 4 Axes>"
      ]
     },
     "metadata": {
      "needs_background": "light"
     },
     "output_type": "display_data"
    }
   ],
   "source": [
    "## train\n",
    "training = model.fit(x=X_train, y=train_labels, validation_data=(X_test, test_labels), batch_size=256, \n",
    "                     epochs=100, shuffle=True, verbose=1) #validation_split=0.3\n",
    "## plot loss and accuracy\n",
    "metrics = [k for k in training.history.keys() if (\"loss\" not in k) and (\"val\" not in k)]\n",
    "fig, ax = plt.subplots(nrows=1, ncols=2, sharey=True)\n",
    "ax[0].set(title=\"Training\")\n",
    "ax11 = ax[0].twinx()\n",
    "ax[0].plot(training.history['loss'], color='black')\n",
    "ax[0].set_xlabel('Epochs')\n",
    "ax[0].set_ylabel('Loss', color='black')\n",
    "for metric in metrics:\n",
    "    ax11.plot(training.history[metric], label=metric)\n",
    "ax11.set_ylabel(\"Score\", color='steelblue')\n",
    "ax11.legend()\n",
    "ax[1].set(title=\"Validation\")\n",
    "ax22 = ax[1].twinx()\n",
    "ax[1].plot(training.history['val_loss'], color='black')\n",
    "ax[1].set_xlabel('Epochs')\n",
    "ax[1].set_ylabel('Loss', color='black')\n",
    "for metric in metrics:\n",
    "     ax22.plot(training.history['val_'+metric], label=metric)\n",
    "ax22.set_ylabel(\"Score\", color=\"steelblue\")\n",
    "plt.show()"
   ]
  },
  {
   "cell_type": "code",
   "execution_count": 306,
   "metadata": {},
   "outputs": [],
   "source": [
    "## test\n",
    "th = 0.5\n",
    "LSTM_preds = model.predict(X_test)\n",
    "LSTM_preds[LSTM_preds>=th] = 1\n",
    "LSTM_preds[LSTM_preds<th] = 0"
   ]
  },
  {
   "cell_type": "code",
   "execution_count": 307,
   "metadata": {},
   "outputs": [
    {
     "name": "stdout",
     "output_type": "stream",
     "text": [
      "\n",
      "Classification Report\n",
      "\n",
      "              precision    recall  f1-score   support\n",
      "\n",
      "           0       0.97      0.92      0.95       719\n",
      "           1       0.71      0.22      0.33        23\n",
      "           2       0.41      0.50      0.45        14\n",
      "           3       0.46      0.60      0.52        30\n",
      "           4       0.64      0.39      0.48        18\n",
      "           5       0.00      0.00      0.00         1\n",
      "           6       0.94      0.89      0.91        18\n",
      "           7       0.00      0.00      0.00         2\n",
      "           8       0.00      0.00      0.00         3\n",
      "           9       0.89      0.89      0.89        28\n",
      "          10       0.73      0.61      0.67        18\n",
      "          11       0.00      0.00      0.00         1\n",
      "          12       0.58      0.77      0.66        56\n",
      "          13       0.65      0.55      0.59        20\n",
      "          14       0.00      0.00      0.00         2\n",
      "          15       0.60      0.43      0.50        28\n",
      "          16       0.00      0.00      0.00         1\n",
      "          17       0.83      0.90      0.86       189\n",
      "          18       0.00      0.00      0.00         1\n",
      "          19       0.78      0.70      0.74        44\n",
      "          20       0.00      0.00      0.00         4\n",
      "          21       0.97      0.99      0.98      1087\n",
      "          22       0.00      0.00      0.00        10\n",
      "          23       0.67      0.47      0.55        17\n",
      "          24       0.75      0.69      0.72        35\n",
      "          25       0.91      0.67      0.77        30\n",
      "          26       0.93      0.87      0.90       149\n",
      "          27       0.00      0.00      0.00         4\n",
      "          28       0.00      0.00      0.00         1\n",
      "          29       0.25      0.40      0.31         5\n",
      "          30       1.00      0.33      0.50         6\n",
      "          31       0.67      0.50      0.57         4\n",
      "          32       0.00      0.00      0.00         7\n",
      "          33       0.00      0.00      0.00         1\n",
      "          34       0.91      0.69      0.78       131\n",
      "          35       0.75      1.00      0.86        12\n",
      "          36       0.50      0.50      0.50        14\n",
      "          37       0.00      0.00      0.00         1\n",
      "          38       0.88      0.33      0.48        21\n",
      "          39       0.00      0.00      0.00         2\n",
      "          40       1.00      0.07      0.13        14\n",
      "          41       0.00      0.00      0.00         3\n",
      "          42       0.00      0.00      0.00         1\n",
      "          43       0.65      0.54      0.59        24\n",
      "          44       0.00      0.00      0.00         6\n",
      "          45       0.83      0.26      0.40        19\n",
      "          46       0.82      0.73      0.77       179\n",
      "          47       0.76      0.76      0.76        34\n",
      "          48       0.00      0.00      0.00         4\n",
      "          49       0.50      0.20      0.29        30\n",
      "          50       0.00      0.00      0.00         1\n",
      "          51       0.00      0.00      0.00         2\n",
      "          52       0.00      0.00      0.00         2\n",
      "          53       0.00      0.00      0.00         6\n",
      "          54       0.65      0.55      0.60        47\n",
      "          55       1.00      0.09      0.17        11\n",
      "          56       0.00      0.00      0.00         1\n",
      "          57       1.00      0.50      0.67        10\n",
      "          58       0.00      0.00      0.00         1\n",
      "          59       0.00      0.00      0.00        12\n",
      "          60       0.00      0.00      0.00         7\n",
      "          61       0.00      0.00      0.00         3\n",
      "          62       0.00      0.00      0.00         3\n",
      "          63       0.00      0.00      0.00         1\n",
      "          64       0.00      0.00      0.00         3\n",
      "          65       1.00      0.44      0.62         9\n",
      "          66       0.67      0.67      0.67        18\n",
      "          67       0.00      0.00      0.00         2\n",
      "          68       1.00      0.29      0.45        24\n",
      "          69       0.62      0.42      0.50        12\n",
      "          70       0.00      0.00      0.00         1\n",
      "          71       0.88      0.81      0.84        89\n",
      "          72       0.00      0.00      0.00         8\n",
      "          73       0.55      0.60      0.57        10\n",
      "          74       1.00      0.23      0.38        13\n",
      "          75       0.50      0.18      0.27        11\n",
      "          76       0.65      0.67      0.66        33\n",
      "          77       0.00      0.00      0.00        11\n",
      "          78       1.00      0.69      0.82        36\n",
      "          79       0.00      0.00      0.00         1\n",
      "          80       0.00      0.00      0.00         2\n",
      "          81       0.17      0.20      0.18         5\n",
      "          82       0.00      0.00      0.00         4\n",
      "          83       0.00      0.00      0.00        12\n",
      "          84       0.65      0.83      0.73       117\n",
      "          85       0.89      0.46      0.61        37\n",
      "          86       0.85      0.82      0.83        71\n",
      "          87       0.71      0.50      0.59        10\n",
      "          88       0.80      0.29      0.42        14\n",
      "          89       0.50      0.15      0.24        13\n",
      "\n",
      "   micro avg       0.87      0.79      0.83      3744\n",
      "   macro avg       0.42      0.31      0.34      3744\n",
      "weighted avg       0.85      0.79      0.80      3744\n",
      " samples avg       0.86      0.85      0.84      3744\n",
      "\n"
     ]
    }
   ],
   "source": [
    "#from sklearn.metrics import classification_report\n",
    "print('\\nClassification Report\\n')\n",
    "print(classification_report(test_labels, LSTM_preds))"
   ]
  },
  {
   "cell_type": "code",
   "execution_count": 158,
   "metadata": {},
   "outputs": [
    {
     "data": {
      "text/plain": [
       "(7769, 90)"
      ]
     },
     "execution_count": 158,
     "metadata": {},
     "output_type": "execute_result"
    }
   ],
   "source": [
    "train_labels.shape"
   ]
  },
  {
   "cell_type": "markdown",
   "metadata": {},
   "source": [
    "# BERT Bidirectional Encoder Representations from Transformers"
   ]
  },
  {
   "cell_type": "code",
   "execution_count": 287,
   "metadata": {},
   "outputs": [],
   "source": [
    "## for bert language model\n",
    "import transformers\n",
    "import re"
   ]
  },
  {
   "cell_type": "code",
   "execution_count": 288,
   "metadata": {},
   "outputs": [],
   "source": [
    "from transformers import AutoTokenizer\n",
    "tokenizer = AutoTokenizer.from_pretrained('bert-base-uncased')\n",
    "\n",
    "train_texts = trainDf[\"content\"].to_list()\n",
    "\n",
    "train_encodings = tokenizer(train_texts, truncation=True, padding=True)\n",
    "#valid_encodings = tokenizer(valid_texts, truncation=True, padding=True)\n",
    "#test_encodings = tokenizer(test_texts, truncation=True, padding=True)"
   ]
  },
  {
   "cell_type": "code",
   "execution_count": 289,
   "metadata": {},
   "outputs": [
    {
     "name": "stderr",
     "output_type": "stream",
     "text": [
      "Some layers from the model checkpoint at bert-base-uncased were not used when initializing TFBertModel: ['nsp___cls', 'mlm___cls']\n",
      "- This IS expected if you are initializing TFBertModel from the checkpoint of a model trained on another task or with another architecture (e.g. initializing a BertForSequenceClassification model from a BertForPreTraining model).\n",
      "- This IS NOT expected if you are initializing TFBertModel from the checkpoint of a model that you expect to be exactly identical (initializing a BertForSequenceClassification model from a BertForSequenceClassification model).\n",
      "All the layers of TFBertModel were initialized from the model checkpoint at bert-base-uncased.\n",
      "If your task is similar to the task the model of the checkpoint was trained on, you can already use TFBertModel for predictions without further training.\n",
      "The parameters `output_attentions`, `output_hidden_states` and `use_cache` cannot be updated when calling a model.They have to be set to True/False in the config object (i.e.: `config=XConfig.from_pretrained('name', output_attentions=True)`).\n",
      "The parameter `return_dict` cannot be set in graph mode and will always be set to `True`.\n"
     ]
    },
    {
     "name": "stdout",
     "output_type": "stream",
     "text": [
      "Model: \"model_10\"\n",
      "__________________________________________________________________________________________________\n",
      "Layer (type)                    Output Shape         Param #     Connected to                     \n",
      "==================================================================================================\n",
      "input_idx (InputLayer)          [(None, 512)]        0                                            \n",
      "__________________________________________________________________________________________________\n",
      "input_segments (InputLayer)     [(None, 512)]        0                                            \n",
      "__________________________________________________________________________________________________\n",
      "input_masks (InputLayer)        [(None, 512)]        0                                            \n",
      "__________________________________________________________________________________________________\n",
      "tf_bert_model_4 (TFBertModel)   TFBaseModelOutputWit 109482240   input_idx[0][0]                  \n",
      "                                                                 input_segments[0][0]             \n",
      "                                                                 input_masks[0][0]                \n",
      "__________________________________________________________________________________________________\n",
      "global_average_pooling1d_4 (Glo (None, 768)          0           tf_bert_model_4[0][0]            \n",
      "__________________________________________________________________________________________________\n",
      "dense_24 (Dense)                (None, 64)           49216       global_average_pooling1d_4[0][0] \n",
      "__________________________________________________________________________________________________\n",
      "dense_25 (Dense)                (None, 90)           5850        dense_24[0][0]                   \n",
      "==================================================================================================\n",
      "Total params: 109,537,306\n",
      "Trainable params: 55,066\n",
      "Non-trainable params: 109,482,240\n",
      "__________________________________________________________________________________________________\n"
     ]
    }
   ],
   "source": [
    "## inputs\n",
    "input_ids = layers.Input((512), dtype=\"int32\", name=\"input_idx\")\n",
    "token_type_ids = layers.Input((512), dtype=\"int32\", name=\"input_masks\")\n",
    "attention_mask = layers.Input((512), dtype=\"int32\", name=\"input_segments\")\n",
    "## pre-trained bert\n",
    "nlp = transformers.TFBertModel.from_pretrained(\"bert-base-uncased\")\n",
    "bert_out = nlp(input_ids, token_type_ids=token_type_ids, attention_mask=attention_mask)[0]\n",
    "## fine-tuning\n",
    "x = layers.GlobalAveragePooling1D()(bert_out)\n",
    "x = layers.Dense(64, activation=\"relu\")(x)\n",
    "y_out = layers.Dense(90, \n",
    "                     activation='sigmoid')(x)\n",
    "## compile\n",
    "model = models.Model([input_ids, token_type_ids, attention_mask], y_out)\n",
    "for layer in model.layers[:4]:\n",
    "    layer.trainable = False\n",
    "model.compile(loss='binary_crossentropy', \n",
    "              optimizer='adam', metrics=['accuracy'])\n",
    "\n",
    "model.summary()"
   ]
  },
  {
   "cell_type": "code",
   "execution_count": 290,
   "metadata": {},
   "outputs": [
    {
     "name": "stderr",
     "output_type": "stream",
     "text": [
      "The parameters `output_attentions`, `output_hidden_states` and `use_cache` cannot be updated when calling a model.They have to be set to True/False in the config object (i.e.: `config=XConfig.from_pretrained('name', output_attentions=True)`).\n",
      "The parameter `return_dict` cannot be set in graph mode and will always be set to `True`.\n"
     ]
    },
    {
     "name": "stdout",
     "output_type": "stream",
     "text": [
      "Epoch 1/100\n",
      "\n"
     ]
    },
    {
     "name": "stderr",
     "output_type": "stream",
     "text": [
      "The parameters `output_attentions`, `output_hidden_states` and `use_cache` cannot be updated when calling a model.They have to be set to True/False in the config object (i.e.: `config=XConfig.from_pretrained('name', output_attentions=True)`).\n",
      "The parameter `return_dict` cannot be set in graph mode and will always be set to `True`.\n"
     ]
    },
    {
     "name": "stdout",
     "output_type": "stream",
     "text": [
      "31/31 [==============================] - 5795s 186s/step - loss: 0.5866 - accuracy: 0.0684\n",
      "Epoch 2/100\n",
      "31/31 [==============================] - 5698s 184s/step - loss: 0.1071 - accuracy: 0.1103\n",
      "Epoch 3/100\n",
      "31/31 [==============================] - 5682s 183s/step - loss: 0.0477 - accuracy: 0.4775\n",
      "Epoch 4/100\n",
      "31/31 [==============================] - 5714s 184s/step - loss: 0.0432 - accuracy: 0.5300\n",
      "Epoch 5/100\n",
      "31/31 [==============================] - 5713s 184s/step - loss: 0.0403 - accuracy: 0.5495\n",
      "Epoch 6/100\n",
      "31/31 [==============================] - 5697s 184s/step - loss: 0.0377 - accuracy: 0.5723\n",
      "Epoch 7/100\n",
      "31/31 [==============================] - 5636s 182s/step - loss: 0.0358 - accuracy: 0.6000\n",
      "Epoch 8/100\n",
      "31/31 [==============================] - 5027s 162s/step - loss: 0.0351 - accuracy: 0.6081\n",
      "Epoch 9/100\n",
      "31/31 [==============================] - 4977s 160s/step - loss: 0.0332 - accuracy: 0.6214\n",
      "Epoch 10/100\n",
      "31/31 [==============================] - 4970s 160s/step - loss: 0.0314 - accuracy: 0.6449\n",
      "Epoch 11/100\n",
      "31/31 [==============================] - 4977s 160s/step - loss: 0.0308 - accuracy: 0.6433\n",
      "Epoch 12/100\n",
      "31/31 [==============================] - 4983s 161s/step - loss: 0.0292 - accuracy: 0.6538\n",
      "Epoch 13/100\n",
      "31/31 [==============================] - 5103s 165s/step - loss: 0.0288 - accuracy: 0.6640\n",
      "Epoch 14/100\n",
      "31/31 [==============================] - 5016s 162s/step - loss: 0.0283 - accuracy: 0.6714\n",
      "Epoch 15/100\n",
      " 9/31 [=======>......................] - ETA: 1:00:31 - loss: 0.0282 - accuracy: 0.6635"
     ]
    },
    {
     "ename": "KeyboardInterrupt",
     "evalue": "",
     "output_type": "error",
     "traceback": [
      "\u001b[0;31m---------------------------------------------------------------------------\u001b[0m",
      "\u001b[0;31mKeyboardInterrupt\u001b[0m                         Traceback (most recent call last)",
      "\u001b[0;32m<ipython-input-290-509e1bf06f94>\u001b[0m in \u001b[0;36m<module>\u001b[0;34m\u001b[0m\n\u001b[1;32m      1\u001b[0m training = model.fit(x=[np.array(train_encodings['input_ids']), np.array(train_encodings['token_type_ids']), np.array(train_encodings['attention_mask'])], y=train_labels, batch_size=256, \n\u001b[0;32m----> 2\u001b[0;31m                      epochs=100, shuffle=True, verbose=1) \n\u001b[0m",
      "\u001b[0;32m~/miniconda3/envs/nlp/lib/python3.7/site-packages/tensorflow/python/keras/engine/training.py\u001b[0m in \u001b[0;36mfit\u001b[0;34m(self, x, y, batch_size, epochs, verbose, callbacks, validation_split, validation_data, shuffle, class_weight, sample_weight, initial_epoch, steps_per_epoch, validation_steps, validation_batch_size, validation_freq, max_queue_size, workers, use_multiprocessing)\u001b[0m\n\u001b[1;32m   1098\u001b[0m                 _r=1):\n\u001b[1;32m   1099\u001b[0m               \u001b[0mcallbacks\u001b[0m\u001b[0;34m.\u001b[0m\u001b[0mon_train_batch_begin\u001b[0m\u001b[0;34m(\u001b[0m\u001b[0mstep\u001b[0m\u001b[0;34m)\u001b[0m\u001b[0;34m\u001b[0m\u001b[0;34m\u001b[0m\u001b[0m\n\u001b[0;32m-> 1100\u001b[0;31m               \u001b[0mtmp_logs\u001b[0m \u001b[0;34m=\u001b[0m \u001b[0mself\u001b[0m\u001b[0;34m.\u001b[0m\u001b[0mtrain_function\u001b[0m\u001b[0;34m(\u001b[0m\u001b[0miterator\u001b[0m\u001b[0;34m)\u001b[0m\u001b[0;34m\u001b[0m\u001b[0;34m\u001b[0m\u001b[0m\n\u001b[0m\u001b[1;32m   1101\u001b[0m               \u001b[0;32mif\u001b[0m \u001b[0mdata_handler\u001b[0m\u001b[0;34m.\u001b[0m\u001b[0mshould_sync\u001b[0m\u001b[0;34m:\u001b[0m\u001b[0;34m\u001b[0m\u001b[0;34m\u001b[0m\u001b[0m\n\u001b[1;32m   1102\u001b[0m                 \u001b[0mcontext\u001b[0m\u001b[0;34m.\u001b[0m\u001b[0masync_wait\u001b[0m\u001b[0;34m(\u001b[0m\u001b[0;34m)\u001b[0m\u001b[0;34m\u001b[0m\u001b[0;34m\u001b[0m\u001b[0m\n",
      "\u001b[0;32m~/miniconda3/envs/nlp/lib/python3.7/site-packages/tensorflow/python/eager/def_function.py\u001b[0m in \u001b[0;36m__call__\u001b[0;34m(self, *args, **kwds)\u001b[0m\n\u001b[1;32m    826\u001b[0m     \u001b[0mtracing_count\u001b[0m \u001b[0;34m=\u001b[0m \u001b[0mself\u001b[0m\u001b[0;34m.\u001b[0m\u001b[0mexperimental_get_tracing_count\u001b[0m\u001b[0;34m(\u001b[0m\u001b[0;34m)\u001b[0m\u001b[0;34m\u001b[0m\u001b[0;34m\u001b[0m\u001b[0m\n\u001b[1;32m    827\u001b[0m     \u001b[0;32mwith\u001b[0m \u001b[0mtrace\u001b[0m\u001b[0;34m.\u001b[0m\u001b[0mTrace\u001b[0m\u001b[0;34m(\u001b[0m\u001b[0mself\u001b[0m\u001b[0;34m.\u001b[0m\u001b[0m_name\u001b[0m\u001b[0;34m)\u001b[0m \u001b[0;32mas\u001b[0m \u001b[0mtm\u001b[0m\u001b[0;34m:\u001b[0m\u001b[0;34m\u001b[0m\u001b[0;34m\u001b[0m\u001b[0m\n\u001b[0;32m--> 828\u001b[0;31m       \u001b[0mresult\u001b[0m \u001b[0;34m=\u001b[0m \u001b[0mself\u001b[0m\u001b[0;34m.\u001b[0m\u001b[0m_call\u001b[0m\u001b[0;34m(\u001b[0m\u001b[0;34m*\u001b[0m\u001b[0margs\u001b[0m\u001b[0;34m,\u001b[0m \u001b[0;34m**\u001b[0m\u001b[0mkwds\u001b[0m\u001b[0;34m)\u001b[0m\u001b[0;34m\u001b[0m\u001b[0;34m\u001b[0m\u001b[0m\n\u001b[0m\u001b[1;32m    829\u001b[0m       \u001b[0mcompiler\u001b[0m \u001b[0;34m=\u001b[0m \u001b[0;34m\"xla\"\u001b[0m \u001b[0;32mif\u001b[0m \u001b[0mself\u001b[0m\u001b[0;34m.\u001b[0m\u001b[0m_experimental_compile\u001b[0m \u001b[0;32melse\u001b[0m \u001b[0;34m\"nonXla\"\u001b[0m\u001b[0;34m\u001b[0m\u001b[0;34m\u001b[0m\u001b[0m\n\u001b[1;32m    830\u001b[0m       \u001b[0mnew_tracing_count\u001b[0m \u001b[0;34m=\u001b[0m \u001b[0mself\u001b[0m\u001b[0;34m.\u001b[0m\u001b[0mexperimental_get_tracing_count\u001b[0m\u001b[0;34m(\u001b[0m\u001b[0;34m)\u001b[0m\u001b[0;34m\u001b[0m\u001b[0;34m\u001b[0m\u001b[0m\n",
      "\u001b[0;32m~/miniconda3/envs/nlp/lib/python3.7/site-packages/tensorflow/python/eager/def_function.py\u001b[0m in \u001b[0;36m_call\u001b[0;34m(self, *args, **kwds)\u001b[0m\n\u001b[1;32m    853\u001b[0m       \u001b[0;31m# In this case we have created variables on the first call, so we run the\u001b[0m\u001b[0;34m\u001b[0m\u001b[0;34m\u001b[0m\u001b[0;34m\u001b[0m\u001b[0m\n\u001b[1;32m    854\u001b[0m       \u001b[0;31m# defunned version which is guaranteed to never create variables.\u001b[0m\u001b[0;34m\u001b[0m\u001b[0;34m\u001b[0m\u001b[0;34m\u001b[0m\u001b[0m\n\u001b[0;32m--> 855\u001b[0;31m       \u001b[0;32mreturn\u001b[0m \u001b[0mself\u001b[0m\u001b[0;34m.\u001b[0m\u001b[0m_stateless_fn\u001b[0m\u001b[0;34m(\u001b[0m\u001b[0;34m*\u001b[0m\u001b[0margs\u001b[0m\u001b[0;34m,\u001b[0m \u001b[0;34m**\u001b[0m\u001b[0mkwds\u001b[0m\u001b[0;34m)\u001b[0m  \u001b[0;31m# pylint: disable=not-callable\u001b[0m\u001b[0;34m\u001b[0m\u001b[0;34m\u001b[0m\u001b[0m\n\u001b[0m\u001b[1;32m    856\u001b[0m     \u001b[0;32melif\u001b[0m \u001b[0mself\u001b[0m\u001b[0;34m.\u001b[0m\u001b[0m_stateful_fn\u001b[0m \u001b[0;32mis\u001b[0m \u001b[0;32mnot\u001b[0m \u001b[0;32mNone\u001b[0m\u001b[0;34m:\u001b[0m\u001b[0;34m\u001b[0m\u001b[0;34m\u001b[0m\u001b[0m\n\u001b[1;32m    857\u001b[0m       \u001b[0;31m# Release the lock early so that multiple threads can perform the call\u001b[0m\u001b[0;34m\u001b[0m\u001b[0;34m\u001b[0m\u001b[0;34m\u001b[0m\u001b[0m\n",
      "\u001b[0;32m~/miniconda3/envs/nlp/lib/python3.7/site-packages/tensorflow/python/eager/function.py\u001b[0m in \u001b[0;36m__call__\u001b[0;34m(self, *args, **kwargs)\u001b[0m\n\u001b[1;32m   2941\u001b[0m        filtered_flat_args) = self._maybe_define_function(args, kwargs)\n\u001b[1;32m   2942\u001b[0m     return graph_function._call_flat(\n\u001b[0;32m-> 2943\u001b[0;31m         filtered_flat_args, captured_inputs=graph_function.captured_inputs)  # pylint: disable=protected-access\n\u001b[0m\u001b[1;32m   2944\u001b[0m \u001b[0;34m\u001b[0m\u001b[0m\n\u001b[1;32m   2945\u001b[0m   \u001b[0;34m@\u001b[0m\u001b[0mproperty\u001b[0m\u001b[0;34m\u001b[0m\u001b[0;34m\u001b[0m\u001b[0m\n",
      "\u001b[0;32m~/miniconda3/envs/nlp/lib/python3.7/site-packages/tensorflow/python/eager/function.py\u001b[0m in \u001b[0;36m_call_flat\u001b[0;34m(self, args, captured_inputs, cancellation_manager)\u001b[0m\n\u001b[1;32m   1917\u001b[0m       \u001b[0;31m# No tape is watching; skip to running the function.\u001b[0m\u001b[0;34m\u001b[0m\u001b[0;34m\u001b[0m\u001b[0;34m\u001b[0m\u001b[0m\n\u001b[1;32m   1918\u001b[0m       return self._build_call_outputs(self._inference_function.call(\n\u001b[0;32m-> 1919\u001b[0;31m           ctx, args, cancellation_manager=cancellation_manager))\n\u001b[0m\u001b[1;32m   1920\u001b[0m     forward_backward = self._select_forward_and_backward_functions(\n\u001b[1;32m   1921\u001b[0m         \u001b[0margs\u001b[0m\u001b[0;34m,\u001b[0m\u001b[0;34m\u001b[0m\u001b[0;34m\u001b[0m\u001b[0m\n",
      "\u001b[0;32m~/miniconda3/envs/nlp/lib/python3.7/site-packages/tensorflow/python/eager/function.py\u001b[0m in \u001b[0;36mcall\u001b[0;34m(self, ctx, args, cancellation_manager)\u001b[0m\n\u001b[1;32m    558\u001b[0m               \u001b[0minputs\u001b[0m\u001b[0;34m=\u001b[0m\u001b[0margs\u001b[0m\u001b[0;34m,\u001b[0m\u001b[0;34m\u001b[0m\u001b[0;34m\u001b[0m\u001b[0m\n\u001b[1;32m    559\u001b[0m               \u001b[0mattrs\u001b[0m\u001b[0;34m=\u001b[0m\u001b[0mattrs\u001b[0m\u001b[0;34m,\u001b[0m\u001b[0;34m\u001b[0m\u001b[0;34m\u001b[0m\u001b[0m\n\u001b[0;32m--> 560\u001b[0;31m               ctx=ctx)\n\u001b[0m\u001b[1;32m    561\u001b[0m         \u001b[0;32melse\u001b[0m\u001b[0;34m:\u001b[0m\u001b[0;34m\u001b[0m\u001b[0;34m\u001b[0m\u001b[0m\n\u001b[1;32m    562\u001b[0m           outputs = execute.execute_with_cancellation(\n",
      "\u001b[0;32m~/miniconda3/envs/nlp/lib/python3.7/site-packages/tensorflow/python/eager/execute.py\u001b[0m in \u001b[0;36mquick_execute\u001b[0;34m(op_name, num_outputs, inputs, attrs, ctx, name)\u001b[0m\n\u001b[1;32m     58\u001b[0m     \u001b[0mctx\u001b[0m\u001b[0;34m.\u001b[0m\u001b[0mensure_initialized\u001b[0m\u001b[0;34m(\u001b[0m\u001b[0;34m)\u001b[0m\u001b[0;34m\u001b[0m\u001b[0;34m\u001b[0m\u001b[0m\n\u001b[1;32m     59\u001b[0m     tensors = pywrap_tfe.TFE_Py_Execute(ctx._handle, device_name, op_name,\n\u001b[0;32m---> 60\u001b[0;31m                                         inputs, attrs, num_outputs)\n\u001b[0m\u001b[1;32m     61\u001b[0m   \u001b[0;32mexcept\u001b[0m \u001b[0mcore\u001b[0m\u001b[0;34m.\u001b[0m\u001b[0m_NotOkStatusException\u001b[0m \u001b[0;32mas\u001b[0m \u001b[0me\u001b[0m\u001b[0;34m:\u001b[0m\u001b[0;34m\u001b[0m\u001b[0;34m\u001b[0m\u001b[0m\n\u001b[1;32m     62\u001b[0m     \u001b[0;32mif\u001b[0m \u001b[0mname\u001b[0m \u001b[0;32mis\u001b[0m \u001b[0;32mnot\u001b[0m \u001b[0;32mNone\u001b[0m\u001b[0;34m:\u001b[0m\u001b[0;34m\u001b[0m\u001b[0;34m\u001b[0m\u001b[0m\n",
      "\u001b[0;31mKeyboardInterrupt\u001b[0m: "
     ]
    }
   ],
   "source": [
    "training = model.fit(x=[np.array(train_encodings['input_ids']), np.array(train_encodings['token_type_ids']), np.array(train_encodings['attention_mask'])], y=train_labels, batch_size=256, \n",
    "                     epochs=100, shuffle=True, verbose=1) "
   ]
  },
  {
   "cell_type": "code",
   "execution_count": 219,
   "metadata": {},
   "outputs": [
    {
     "data": {
      "text/plain": [
       "49"
      ]
     },
     "execution_count": 219,
     "metadata": {},
     "output_type": "execute_result"
    }
   ],
   "source": [
    "## pre-trained bert\n",
    "nlp = transformers.TFBertModel.from_pretrained(\"bert-base-uncased\")\n",
    "bert_out, _ = nlp([idx, masks, segments])\n",
    "## fine-tuning\n",
    "x = layers.GlobalAveragePooling1D()(bert_out)\n",
    "x = layers.Dense(64, activation=\"relu\")(x)\n",
    "y_out = layers.Dense(len(np.unique(y_train)), \n",
    "                     activation='softmax')(x)\n",
    "## compile\n",
    "model = models.Model([idx, masks, segments], y_out)\n",
    "for layer in model.layers[:4]:\n",
    "    layer.trainable = False\n",
    "model.compile(loss='sparse_categorical_crossentropy', \n",
    "              optimizer='adam', metrics=['accuracy'])\n",
    "model.summary()"
   ]
  },
  {
   "cell_type": "code",
   "execution_count": 214,
   "metadata": {},
   "outputs": [
    {
     "data": {
      "text/plain": [
       "['[CLS]',\n",
       " 'bahia',\n",
       " 'cocoa',\n",
       " 'review',\n",
       " 'showers',\n",
       " 'continued',\n",
       " 'throughout',\n",
       " 'the',\n",
       " 'week',\n",
       " 'in',\n",
       " 'the',\n",
       " 'bahia',\n",
       " 'cocoa',\n",
       " 'zone',\n",
       " 'all',\n",
       " '##ev',\n",
       " '[SEP]',\n",
       " '',\n",
       " '[PAD]',\n",
       " '[PAD]',\n",
       " '[PAD]',\n",
       " '[PAD]',\n",
       " '[PAD]',\n",
       " '[PAD]',\n",
       " '[PAD]',\n",
       " '[PAD]',\n",
       " '[PAD]',\n",
       " '[PAD]',\n",
       " '[PAD]',\n",
       " '[PAD]',\n",
       " '[PAD]',\n",
       " '[PAD]',\n",
       " '[PAD]',\n",
       " '[PAD]',\n",
       " '[PAD]',\n",
       " '[PAD]',\n",
       " '[PAD]',\n",
       " '[PAD]',\n",
       " '[PAD]',\n",
       " '[PAD]',\n",
       " '[PAD]',\n",
       " '[PAD]',\n",
       " '[PAD]',\n",
       " '[PAD]',\n",
       " '[PAD]',\n",
       " '[PAD]',\n",
       " '[PAD]',\n",
       " '[PAD]',\n",
       " '[PAD]',\n",
       " '[PAD]']"
      ]
     },
     "execution_count": 214,
     "metadata": {},
     "output_type": "execute_result"
    }
   ],
   "source": [
    "seq.split(\" \")"
   ]
  },
  {
   "cell_type": "code",
   "execution_count": 206,
   "metadata": {},
   "outputs": [
    {
     "data": {
      "text/plain": [
       "['[CLS]',\n",
       " 'bahia',\n",
       " 'cocoa',\n",
       " 'review',\n",
       " 'showers',\n",
       " 'continued',\n",
       " 'throughout',\n",
       " 'the',\n",
       " 'week',\n",
       " 'in',\n",
       " 'the',\n",
       " 'bahia',\n",
       " 'cocoa',\n",
       " 'zone',\n",
       " 'all',\n",
       " '##ev',\n",
       " '[SEP]',\n",
       " '',\n",
       " '[PAD]',\n",
       " '[PAD]',\n",
       " '[PAD]',\n",
       " '[PAD]',\n",
       " '[PAD]',\n",
       " '[PAD]',\n",
       " '[PAD]',\n",
       " '[PAD]',\n",
       " '[PAD]',\n",
       " '[PAD]',\n",
       " '[PAD]',\n",
       " '[PAD]',\n",
       " '[PAD]',\n",
       " '[PAD]',\n",
       " '[PAD]',\n",
       " '[PAD]',\n",
       " '[PAD]',\n",
       " '[PAD]',\n",
       " '[PAD]',\n",
       " '[PAD]',\n",
       " '[PAD]',\n",
       " '[PAD]',\n",
       " '[PAD]',\n",
       " '[PAD]',\n",
       " '[PAD]',\n",
       " '[PAD]',\n",
       " '[PAD]',\n",
       " '[PAD]',\n",
       " '[PAD]',\n",
       " '[PAD]',\n",
       " '[PAD]',\n",
       " '[PAD]']"
      ]
     },
     "execution_count": 206,
     "metadata": {},
     "output_type": "execute_result"
    }
   ],
   "source": [
    "seq.split(\" \")"
   ]
  },
  {
   "cell_type": "code",
   "execution_count": null,
   "metadata": {},
   "outputs": [],
   "source": []
  }
 ],
 "metadata": {
  "kernelspec": {
   "display_name": "Python (nlp)",
   "language": "python",
   "name": "nlp"
  },
  "language_info": {
   "codemirror_mode": {
    "name": "ipython",
    "version": 3
   },
   "file_extension": ".py",
   "mimetype": "text/x-python",
   "name": "python",
   "nbconvert_exporter": "python",
   "pygments_lexer": "ipython3",
   "version": "3.7.9"
  }
 },
 "nbformat": 4,
 "nbformat_minor": 4
}
